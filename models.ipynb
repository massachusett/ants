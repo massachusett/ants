{
 "cells": [
  {
   "cell_type": "markdown",
   "metadata": {
    "id": "tXL7pX6oPP7v"
   },
   "source": [
    "## Import Data and Libraries"
   ]
  },
  {
   "cell_type": "code",
   "execution_count": 87,
   "metadata": {
    "executionInfo": {
     "elapsed": 518,
     "status": "ok",
     "timestamp": 1670917056679,
     "user": {
      "displayName": "Henry Cerbone",
      "userId": "06775678993421421914"
     },
     "user_tz": 300
    },
    "id": "UziRZR_VOszC"
   },
   "outputs": [],
   "source": [
    "import pandas as pd\n",
    "import numpy as np\n",
    "import matplotlib.pyplot as plt\n",
    "import seaborn as sns\n",
    "\n",
    "from tqdm.notebook import tqdm\n",
    "\n",
    "import itertools\n",
    "\n",
    "from scipy.spatial import Voronoi, voronoi_plot_2d, KDTree, Delaunay\n",
    "from scipy.stats import boxcox\n",
    "\n",
    "from shapely.geometry import Polygon\n",
    "\n",
    "from sklearn.linear_model import LogisticRegression\n",
    "from sklearn.model_selection import KFold, cross_val_score\n",
    "from sklearn.metrics import accuracy_score, balanced_accuracy_score, make_scorer"
   ]
  },
  {
   "cell_type": "code",
   "execution_count": 89,
   "metadata": {
    "executionInfo": {
     "elapsed": 5359,
     "status": "ok",
     "timestamp": 1670917064467,
     "user": {
      "displayName": "Henry Cerbone",
      "userId": "06775678993421421914"
     },
     "user_tz": 300
    },
    "id": "Eaw-k2xMPfre"
   },
   "outputs": [],
   "source": [
    "colonies = pd.read_excel('./data/Orig ID - reduced EBS.xlsx', sheet_name='Raw data')"
   ]
  },
  {
   "cell_type": "code",
   "execution_count": 90,
   "metadata": {
    "executionInfo": {
     "elapsed": 464,
     "status": "ok",
     "timestamp": 1670917064914,
     "user": {
      "displayName": "Henry Cerbone",
      "userId": "06775678993421421914"
     },
     "user_tz": 300
    },
    "id": "NLU0__M9mPTm"
   },
   "outputs": [],
   "source": [
    "weather = pd.read_csv('./data/math_242_datashare/weather.csv')"
   ]
  },
  {
   "cell_type": "markdown",
   "metadata": {
    "id": "LAoRBX0IPWiN"
   },
   "source": [
    "## Data Preparation"
   ]
  },
  {
   "cell_type": "markdown",
   "metadata": {
    "id": "xoHJ48Zy3C3n"
   },
   "source": [
    "### Clean and Merge Weather Data"
   ]
  },
  {
   "cell_type": "code",
   "execution_count": 91,
   "metadata": {
    "executionInfo": {
     "elapsed": 10,
     "status": "ok",
     "timestamp": 1670917064914,
     "user": {
      "displayName": "Henry Cerbone",
      "userId": "06775678993421421914"
     },
     "user_tz": 300
    },
    "id": "EtG8eUihnJBf"
   },
   "outputs": [],
   "source": [
    "weather = weather[['datetime', 'temp', 'humidity']]"
   ]
  },
  {
   "cell_type": "code",
   "execution_count": 92,
   "metadata": {
    "colab": {
     "base_uri": "https://localhost:8080/"
    },
    "executionInfo": {
     "elapsed": 9,
     "status": "ok",
     "timestamp": 1670917064914,
     "user": {
      "displayName": "Henry Cerbone",
      "userId": "06775678993421421914"
     },
     "user_tz": 300
    },
    "id": "f11gKTxTnVCk",
    "outputId": "dc7b4e46-f276-41ab-c30c-57e20aa259c8"
   },
   "outputs": [
    {
     "name": "stderr",
     "output_type": "stream",
     "text": [
      "<ipython-input-92-4a9d14070ebb>:1: SettingWithCopyWarning: \n",
      "A value is trying to be set on a copy of a slice from a DataFrame.\n",
      "Try using .loc[row_indexer,col_indexer] = value instead\n",
      "\n",
      "See the caveats in the documentation: https://pandas.pydata.org/pandas-docs/stable/user_guide/indexing.html#returning-a-view-versus-a-copy\n",
      "  weather['datetime'] = pd.to_datetime(weather['datetime'], format='%Y-%m-%d')\n"
     ]
    }
   ],
   "source": [
    "weather['datetime'] = pd.to_datetime(weather['datetime'], format='%Y-%m-%d')"
   ]
  },
  {
   "cell_type": "code",
   "execution_count": 93,
   "metadata": {
    "executionInfo": {
     "elapsed": 7,
     "status": "ok",
     "timestamp": 1670917064915,
     "user": {
      "displayName": "Henry Cerbone",
      "userId": "06775678993421421914"
     },
     "user_tz": 300
    },
    "id": "bsLGWzjXnuT2"
   },
   "outputs": [],
   "source": [
    "weather = weather.groupby(weather.datetime.dt.year).mean()"
   ]
  },
  {
   "cell_type": "code",
   "execution_count": 94,
   "metadata": {
    "executionInfo": {
     "elapsed": 6,
     "status": "ok",
     "timestamp": 1670917064915,
     "user": {
      "displayName": "Henry Cerbone",
      "userId": "06775678993421421914"
     },
     "user_tz": 300
    },
    "id": "_fl3Z8cVobg3"
   },
   "outputs": [],
   "source": [
    "weather = weather.fillna(weather.mean())"
   ]
  },
  {
   "cell_type": "code",
   "execution_count": 95,
   "metadata": {
    "executionInfo": {
     "elapsed": 6,
     "status": "ok",
     "timestamp": 1670917064915,
     "user": {
      "displayName": "Henry Cerbone",
      "userId": "06775678993421421914"
     },
     "user_tz": 300
    },
    "id": "48k6_Jhqtgms"
   },
   "outputs": [],
   "source": [
    "weather = weather.reset_index()"
   ]
  },
  {
   "cell_type": "code",
   "execution_count": 96,
   "metadata": {
    "executionInfo": {
     "elapsed": 7,
     "status": "ok",
     "timestamp": 1670917064916,
     "user": {
      "displayName": "Henry Cerbone",
      "userId": "06775678993421421914"
     },
     "user_tz": 300
    },
    "id": "MXJSc6dewC-Q"
   },
   "outputs": [],
   "source": [
    "colonies = colonies[colonies['YEAR'] >= 1984]"
   ]
  },
  {
   "cell_type": "code",
   "execution_count": 97,
   "metadata": {
    "executionInfo": {
     "elapsed": 6,
     "status": "ok",
     "timestamp": 1670917064916,
     "user": {
      "displayName": "Henry Cerbone",
      "userId": "06775678993421421914"
     },
     "user_tz": 300
    },
    "id": "XkOt40t8t11d"
   },
   "outputs": [],
   "source": [
    "colonies = pd.merge(colonies, weather, left_on='YEAR', right_on='datetime', how='left')"
   ]
  },
  {
   "cell_type": "markdown",
   "metadata": {
    "id": "mfan5Ze43K3x"
   },
   "source": [
    "### Remove Duplicated Data"
   ]
  },
  {
   "cell_type": "code",
   "execution_count": 98,
   "metadata": {
    "colab": {
     "base_uri": "https://localhost:8080/",
     "height": 0
    },
    "executionInfo": {
     "elapsed": 304,
     "status": "ok",
     "timestamp": 1670917065214,
     "user": {
      "displayName": "Henry Cerbone",
      "userId": "06775678993421421914"
     },
     "user_tz": 300
    },
    "id": "KAgeUXZAifXd",
    "outputId": "babf7077-1149-4f5b-e109-86e18ffcef4a"
   },
   "outputs": [
    {
     "data": {
      "text/html": [
       "\n",
       "  <div id=\"df-53468c9f-a6d7-41c3-8e09-b4cfff3b9507\">\n",
       "    <div class=\"colab-df-container\">\n",
       "      <div>\n",
       "<style scoped>\n",
       "    .dataframe tbody tr th:only-of-type {\n",
       "        vertical-align: middle;\n",
       "    }\n",
       "\n",
       "    .dataframe tbody tr th {\n",
       "        vertical-align: top;\n",
       "    }\n",
       "\n",
       "    .dataframe thead th {\n",
       "        text-align: right;\n",
       "    }\n",
       "</style>\n",
       "<table border=\"1\" class=\"dataframe\">\n",
       "  <thead>\n",
       "    <tr style=\"text-align: right;\">\n",
       "      <th></th>\n",
       "      <th>ORIG_ID</th>\n",
       "      <th>lifespan</th>\n",
       "      <th>YEAR</th>\n",
       "      <th>AGE</th>\n",
       "      <th>LAT</th>\n",
       "      <th>LON</th>\n",
       "      <th>DEAD</th>\n",
       "      <th>YEARS_REMAINING</th>\n",
       "      <th>BORN</th>\n",
       "      <th>DIEFUTURE</th>\n",
       "      <th>SURVIVED</th>\n",
       "      <th>datetime</th>\n",
       "      <th>temp</th>\n",
       "      <th>humidity</th>\n",
       "    </tr>\n",
       "  </thead>\n",
       "  <tbody>\n",
       "    <tr>\n",
       "      <th>366</th>\n",
       "      <td>140426</td>\n",
       "      <td>11</td>\n",
       "      <td>1985</td>\n",
       "      <td>5</td>\n",
       "      <td>31.893632</td>\n",
       "      <td>-109.003484</td>\n",
       "      <td>0</td>\n",
       "      <td>6</td>\n",
       "      <td>0</td>\n",
       "      <td>0</td>\n",
       "      <td>1</td>\n",
       "      <td>1985</td>\n",
       "      <td>16.774432</td>\n",
       "      <td>48.169886</td>\n",
       "    </tr>\n",
       "    <tr>\n",
       "      <th>367</th>\n",
       "      <td>140426</td>\n",
       "      <td>11</td>\n",
       "      <td>1986</td>\n",
       "      <td>6</td>\n",
       "      <td>31.893632</td>\n",
       "      <td>-109.003484</td>\n",
       "      <td>0</td>\n",
       "      <td>5</td>\n",
       "      <td>0</td>\n",
       "      <td>0</td>\n",
       "      <td>1</td>\n",
       "      <td>1986</td>\n",
       "      <td>16.669697</td>\n",
       "      <td>47.642727</td>\n",
       "    </tr>\n",
       "    <tr>\n",
       "      <th>1095</th>\n",
       "      <td>181766</td>\n",
       "      <td>14</td>\n",
       "      <td>1997</td>\n",
       "      <td>12</td>\n",
       "      <td>31.893974</td>\n",
       "      <td>-109.000731</td>\n",
       "      <td>0</td>\n",
       "      <td>2</td>\n",
       "      <td>0</td>\n",
       "      <td>0</td>\n",
       "      <td>1</td>\n",
       "      <td>1997</td>\n",
       "      <td>18.390750</td>\n",
       "      <td>38.997648</td>\n",
       "    </tr>\n",
       "    <tr>\n",
       "      <th>1096</th>\n",
       "      <td>181766</td>\n",
       "      <td>14</td>\n",
       "      <td>1998</td>\n",
       "      <td>13</td>\n",
       "      <td>31.893974</td>\n",
       "      <td>-109.000731</td>\n",
       "      <td>0</td>\n",
       "      <td>1</td>\n",
       "      <td>0</td>\n",
       "      <td>1</td>\n",
       "      <td>0</td>\n",
       "      <td>1998</td>\n",
       "      <td>19.512275</td>\n",
       "      <td>44.053293</td>\n",
       "    </tr>\n",
       "    <tr>\n",
       "      <th>1097</th>\n",
       "      <td>181766</td>\n",
       "      <td>14</td>\n",
       "      <td>1986</td>\n",
       "      <td>1</td>\n",
       "      <td>31.894021</td>\n",
       "      <td>-109.000657</td>\n",
       "      <td>0</td>\n",
       "      <td>13</td>\n",
       "      <td>1</td>\n",
       "      <td>0</td>\n",
       "      <td>1</td>\n",
       "      <td>1986</td>\n",
       "      <td>16.669697</td>\n",
       "      <td>47.642727</td>\n",
       "    </tr>\n",
       "    <tr>\n",
       "      <th>...</th>\n",
       "      <td>...</td>\n",
       "      <td>...</td>\n",
       "      <td>...</td>\n",
       "      <td>...</td>\n",
       "      <td>...</td>\n",
       "      <td>...</td>\n",
       "      <td>...</td>\n",
       "      <td>...</td>\n",
       "      <td>...</td>\n",
       "      <td>...</td>\n",
       "      <td>...</td>\n",
       "      <td>...</td>\n",
       "      <td>...</td>\n",
       "      <td>...</td>\n",
       "    </tr>\n",
       "    <tr>\n",
       "      <th>10737</th>\n",
       "      <td>132587</td>\n",
       "      <td>5</td>\n",
       "      <td>2020</td>\n",
       "      <td>5</td>\n",
       "      <td>31.894706</td>\n",
       "      <td>-109.004283</td>\n",
       "      <td>0</td>\n",
       "      <td>0</td>\n",
       "      <td>0</td>\n",
       "      <td>0</td>\n",
       "      <td>1</td>\n",
       "      <td>2020</td>\n",
       "      <td>20.442350</td>\n",
       "      <td>33.593169</td>\n",
       "    </tr>\n",
       "    <tr>\n",
       "      <th>10738</th>\n",
       "      <td>132587</td>\n",
       "      <td>5</td>\n",
       "      <td>2019</td>\n",
       "      <td>4</td>\n",
       "      <td>31.894706</td>\n",
       "      <td>-109.004283</td>\n",
       "      <td>0</td>\n",
       "      <td>1</td>\n",
       "      <td>0</td>\n",
       "      <td>0</td>\n",
       "      <td>1</td>\n",
       "      <td>2019</td>\n",
       "      <td>19.299726</td>\n",
       "      <td>39.179452</td>\n",
       "    </tr>\n",
       "    <tr>\n",
       "      <th>10739</th>\n",
       "      <td>132587</td>\n",
       "      <td>5</td>\n",
       "      <td>2018</td>\n",
       "      <td>3</td>\n",
       "      <td>31.894706</td>\n",
       "      <td>-109.004283</td>\n",
       "      <td>0</td>\n",
       "      <td>2</td>\n",
       "      <td>0</td>\n",
       "      <td>0</td>\n",
       "      <td>1</td>\n",
       "      <td>2018</td>\n",
       "      <td>19.896438</td>\n",
       "      <td>35.582740</td>\n",
       "    </tr>\n",
       "    <tr>\n",
       "      <th>10740</th>\n",
       "      <td>132587</td>\n",
       "      <td>5</td>\n",
       "      <td>2016</td>\n",
       "      <td>1</td>\n",
       "      <td>31.894706</td>\n",
       "      <td>-109.004283</td>\n",
       "      <td>0</td>\n",
       "      <td>4</td>\n",
       "      <td>1</td>\n",
       "      <td>0</td>\n",
       "      <td>1</td>\n",
       "      <td>2016</td>\n",
       "      <td>18.125410</td>\n",
       "      <td>39.839617</td>\n",
       "    </tr>\n",
       "    <tr>\n",
       "      <th>11141</th>\n",
       "      <td>166535</td>\n",
       "      <td>1</td>\n",
       "      <td>2020</td>\n",
       "      <td>1</td>\n",
       "      <td>31.893744</td>\n",
       "      <td>-109.003115</td>\n",
       "      <td>0</td>\n",
       "      <td>0</td>\n",
       "      <td>1</td>\n",
       "      <td>0</td>\n",
       "      <td>1</td>\n",
       "      <td>2020</td>\n",
       "      <td>20.442350</td>\n",
       "      <td>33.593169</td>\n",
       "    </tr>\n",
       "  </tbody>\n",
       "</table>\n",
       "<p>112 rows × 14 columns</p>\n",
       "</div>\n",
       "      <button class=\"colab-df-convert\" onclick=\"convertToInteractive('df-53468c9f-a6d7-41c3-8e09-b4cfff3b9507')\"\n",
       "              title=\"Convert this dataframe to an interactive table.\"\n",
       "              style=\"display:none;\">\n",
       "        \n",
       "  <svg xmlns=\"http://www.w3.org/2000/svg\" height=\"24px\"viewBox=\"0 0 24 24\"\n",
       "       width=\"24px\">\n",
       "    <path d=\"M0 0h24v24H0V0z\" fill=\"none\"/>\n",
       "    <path d=\"M18.56 5.44l.94 2.06.94-2.06 2.06-.94-2.06-.94-.94-2.06-.94 2.06-2.06.94zm-11 1L8.5 8.5l.94-2.06 2.06-.94-2.06-.94L8.5 2.5l-.94 2.06-2.06.94zm10 10l.94 2.06.94-2.06 2.06-.94-2.06-.94-.94-2.06-.94 2.06-2.06.94z\"/><path d=\"M17.41 7.96l-1.37-1.37c-.4-.4-.92-.59-1.43-.59-.52 0-1.04.2-1.43.59L10.3 9.45l-7.72 7.72c-.78.78-.78 2.05 0 2.83L4 21.41c.39.39.9.59 1.41.59.51 0 1.02-.2 1.41-.59l7.78-7.78 2.81-2.81c.8-.78.8-2.07 0-2.86zM5.41 20L4 18.59l7.72-7.72 1.47 1.35L5.41 20z\"/>\n",
       "  </svg>\n",
       "      </button>\n",
       "      \n",
       "  <style>\n",
       "    .colab-df-container {\n",
       "      display:flex;\n",
       "      flex-wrap:wrap;\n",
       "      gap: 12px;\n",
       "    }\n",
       "\n",
       "    .colab-df-convert {\n",
       "      background-color: #E8F0FE;\n",
       "      border: none;\n",
       "      border-radius: 50%;\n",
       "      cursor: pointer;\n",
       "      display: none;\n",
       "      fill: #1967D2;\n",
       "      height: 32px;\n",
       "      padding: 0 0 0 0;\n",
       "      width: 32px;\n",
       "    }\n",
       "\n",
       "    .colab-df-convert:hover {\n",
       "      background-color: #E2EBFA;\n",
       "      box-shadow: 0px 1px 2px rgba(60, 64, 67, 0.3), 0px 1px 3px 1px rgba(60, 64, 67, 0.15);\n",
       "      fill: #174EA6;\n",
       "    }\n",
       "\n",
       "    [theme=dark] .colab-df-convert {\n",
       "      background-color: #3B4455;\n",
       "      fill: #D2E3FC;\n",
       "    }\n",
       "\n",
       "    [theme=dark] .colab-df-convert:hover {\n",
       "      background-color: #434B5C;\n",
       "      box-shadow: 0px 1px 3px 1px rgba(0, 0, 0, 0.15);\n",
       "      filter: drop-shadow(0px 1px 2px rgba(0, 0, 0, 0.3));\n",
       "      fill: #FFFFFF;\n",
       "    }\n",
       "  </style>\n",
       "\n",
       "      <script>\n",
       "        const buttonEl =\n",
       "          document.querySelector('#df-53468c9f-a6d7-41c3-8e09-b4cfff3b9507 button.colab-df-convert');\n",
       "        buttonEl.style.display =\n",
       "          google.colab.kernel.accessAllowed ? 'block' : 'none';\n",
       "\n",
       "        async function convertToInteractive(key) {\n",
       "          const element = document.querySelector('#df-53468c9f-a6d7-41c3-8e09-b4cfff3b9507');\n",
       "          const dataTable =\n",
       "            await google.colab.kernel.invokeFunction('convertToInteractive',\n",
       "                                                     [key], {});\n",
       "          if (!dataTable) return;\n",
       "\n",
       "          const docLinkHtml = 'Like what you see? Visit the ' +\n",
       "            '<a target=\"_blank\" href=https://colab.research.google.com/notebooks/data_table.ipynb>data table notebook</a>'\n",
       "            + ' to learn more about interactive tables.';\n",
       "          element.innerHTML = '';\n",
       "          dataTable['output_type'] = 'display_data';\n",
       "          await google.colab.output.renderOutput(dataTable, element);\n",
       "          const docLink = document.createElement('div');\n",
       "          docLink.innerHTML = docLinkHtml;\n",
       "          element.appendChild(docLink);\n",
       "        }\n",
       "      </script>\n",
       "    </div>\n",
       "  </div>\n",
       "  "
      ],
      "text/plain": [
       "       ORIG_ID  lifespan  YEAR  AGE        LAT         LON  DEAD  \\\n",
       "366     140426        11  1985    5  31.893632 -109.003484     0   \n",
       "367     140426        11  1986    6  31.893632 -109.003484     0   \n",
       "1095    181766        14  1997   12  31.893974 -109.000731     0   \n",
       "1096    181766        14  1998   13  31.893974 -109.000731     0   \n",
       "1097    181766        14  1986    1  31.894021 -109.000657     0   \n",
       "...        ...       ...   ...  ...        ...         ...   ...   \n",
       "10737   132587         5  2020    5  31.894706 -109.004283     0   \n",
       "10738   132587         5  2019    4  31.894706 -109.004283     0   \n",
       "10739   132587         5  2018    3  31.894706 -109.004283     0   \n",
       "10740   132587         5  2016    1  31.894706 -109.004283     0   \n",
       "11141   166535         1  2020    1  31.893744 -109.003115     0   \n",
       "\n",
       "       YEARS_REMAINING  BORN  DIEFUTURE  SURVIVED  datetime       temp  \\\n",
       "366                  6     0          0         1      1985  16.774432   \n",
       "367                  5     0          0         1      1986  16.669697   \n",
       "1095                 2     0          0         1      1997  18.390750   \n",
       "1096                 1     0          1         0      1998  19.512275   \n",
       "1097                13     1          0         1      1986  16.669697   \n",
       "...                ...   ...        ...       ...       ...        ...   \n",
       "10737                0     0          0         1      2020  20.442350   \n",
       "10738                1     0          0         1      2019  19.299726   \n",
       "10739                2     0          0         1      2018  19.896438   \n",
       "10740                4     1          0         1      2016  18.125410   \n",
       "11141                0     1          0         1      2020  20.442350   \n",
       "\n",
       "        humidity  \n",
       "366    48.169886  \n",
       "367    47.642727  \n",
       "1095   38.997648  \n",
       "1096   44.053293  \n",
       "1097   47.642727  \n",
       "...          ...  \n",
       "10737  33.593169  \n",
       "10738  39.179452  \n",
       "10739  35.582740  \n",
       "10740  39.839617  \n",
       "11141  33.593169  \n",
       "\n",
       "[112 rows x 14 columns]"
      ]
     },
     "execution_count": 98,
     "metadata": {},
     "output_type": "execute_result"
    }
   ],
   "source": [
    "# NOTE: THERE ARE DUPLICATED IDS\n",
    "duplicates = colonies[colonies.duplicated(subset=['ORIG_ID', 'AGE'], keep=False)]\n",
    "duplicates"
   ]
  },
  {
   "cell_type": "code",
   "execution_count": 99,
   "metadata": {
    "colab": {
     "base_uri": "https://localhost:8080/",
     "height": 0
    },
    "executionInfo": {
     "elapsed": 7,
     "status": "ok",
     "timestamp": 1670917065214,
     "user": {
      "displayName": "Henry Cerbone",
      "userId": "06775678993421421914"
     },
     "user_tz": 300
    },
    "id": "wROkRgBU1w-a",
    "outputId": "d4c52e27-31b6-457f-e89e-b669f8970ba6"
   },
   "outputs": [
    {
     "data": {
      "text/html": [
       "\n",
       "  <div id=\"df-cd07e1d7-af1f-4e5e-9cb8-a5c259843b97\">\n",
       "    <div class=\"colab-df-container\">\n",
       "      <div>\n",
       "<style scoped>\n",
       "    .dataframe tbody tr th:only-of-type {\n",
       "        vertical-align: middle;\n",
       "    }\n",
       "\n",
       "    .dataframe tbody tr th {\n",
       "        vertical-align: top;\n",
       "    }\n",
       "\n",
       "    .dataframe thead th {\n",
       "        text-align: right;\n",
       "    }\n",
       "</style>\n",
       "<table border=\"1\" class=\"dataframe\">\n",
       "  <thead>\n",
       "    <tr style=\"text-align: right;\">\n",
       "      <th></th>\n",
       "      <th>ORIG_ID</th>\n",
       "      <th>lifespan</th>\n",
       "      <th>YEAR</th>\n",
       "      <th>AGE</th>\n",
       "      <th>LAT</th>\n",
       "      <th>LON</th>\n",
       "      <th>DEAD</th>\n",
       "      <th>YEARS_REMAINING</th>\n",
       "      <th>BORN</th>\n",
       "      <th>DIEFUTURE</th>\n",
       "      <th>SURVIVED</th>\n",
       "      <th>datetime</th>\n",
       "      <th>temp</th>\n",
       "      <th>humidity</th>\n",
       "    </tr>\n",
       "  </thead>\n",
       "  <tbody>\n",
       "  </tbody>\n",
       "</table>\n",
       "</div>\n",
       "      <button class=\"colab-df-convert\" onclick=\"convertToInteractive('df-cd07e1d7-af1f-4e5e-9cb8-a5c259843b97')\"\n",
       "              title=\"Convert this dataframe to an interactive table.\"\n",
       "              style=\"display:none;\">\n",
       "        \n",
       "  <svg xmlns=\"http://www.w3.org/2000/svg\" height=\"24px\"viewBox=\"0 0 24 24\"\n",
       "       width=\"24px\">\n",
       "    <path d=\"M0 0h24v24H0V0z\" fill=\"none\"/>\n",
       "    <path d=\"M18.56 5.44l.94 2.06.94-2.06 2.06-.94-2.06-.94-.94-2.06-.94 2.06-2.06.94zm-11 1L8.5 8.5l.94-2.06 2.06-.94-2.06-.94L8.5 2.5l-.94 2.06-2.06.94zm10 10l.94 2.06.94-2.06 2.06-.94-2.06-.94-.94-2.06-.94 2.06-2.06.94z\"/><path d=\"M17.41 7.96l-1.37-1.37c-.4-.4-.92-.59-1.43-.59-.52 0-1.04.2-1.43.59L10.3 9.45l-7.72 7.72c-.78.78-.78 2.05 0 2.83L4 21.41c.39.39.9.59 1.41.59.51 0 1.02-.2 1.41-.59l7.78-7.78 2.81-2.81c.8-.78.8-2.07 0-2.86zM5.41 20L4 18.59l7.72-7.72 1.47 1.35L5.41 20z\"/>\n",
       "  </svg>\n",
       "      </button>\n",
       "      \n",
       "  <style>\n",
       "    .colab-df-container {\n",
       "      display:flex;\n",
       "      flex-wrap:wrap;\n",
       "      gap: 12px;\n",
       "    }\n",
       "\n",
       "    .colab-df-convert {\n",
       "      background-color: #E8F0FE;\n",
       "      border: none;\n",
       "      border-radius: 50%;\n",
       "      cursor: pointer;\n",
       "      display: none;\n",
       "      fill: #1967D2;\n",
       "      height: 32px;\n",
       "      padding: 0 0 0 0;\n",
       "      width: 32px;\n",
       "    }\n",
       "\n",
       "    .colab-df-convert:hover {\n",
       "      background-color: #E2EBFA;\n",
       "      box-shadow: 0px 1px 2px rgba(60, 64, 67, 0.3), 0px 1px 3px 1px rgba(60, 64, 67, 0.15);\n",
       "      fill: #174EA6;\n",
       "    }\n",
       "\n",
       "    [theme=dark] .colab-df-convert {\n",
       "      background-color: #3B4455;\n",
       "      fill: #D2E3FC;\n",
       "    }\n",
       "\n",
       "    [theme=dark] .colab-df-convert:hover {\n",
       "      background-color: #434B5C;\n",
       "      box-shadow: 0px 1px 3px 1px rgba(0, 0, 0, 0.15);\n",
       "      filter: drop-shadow(0px 1px 2px rgba(0, 0, 0, 0.3));\n",
       "      fill: #FFFFFF;\n",
       "    }\n",
       "  </style>\n",
       "\n",
       "      <script>\n",
       "        const buttonEl =\n",
       "          document.querySelector('#df-cd07e1d7-af1f-4e5e-9cb8-a5c259843b97 button.colab-df-convert');\n",
       "        buttonEl.style.display =\n",
       "          google.colab.kernel.accessAllowed ? 'block' : 'none';\n",
       "\n",
       "        async function convertToInteractive(key) {\n",
       "          const element = document.querySelector('#df-cd07e1d7-af1f-4e5e-9cb8-a5c259843b97');\n",
       "          const dataTable =\n",
       "            await google.colab.kernel.invokeFunction('convertToInteractive',\n",
       "                                                     [key], {});\n",
       "          if (!dataTable) return;\n",
       "\n",
       "          const docLinkHtml = 'Like what you see? Visit the ' +\n",
       "            '<a target=\"_blank\" href=https://colab.research.google.com/notebooks/data_table.ipynb>data table notebook</a>'\n",
       "            + ' to learn more about interactive tables.';\n",
       "          element.innerHTML = '';\n",
       "          dataTable['output_type'] = 'display_data';\n",
       "          await google.colab.output.renderOutput(dataTable, element);\n",
       "          const docLink = document.createElement('div');\n",
       "          docLink.innerHTML = docLinkHtml;\n",
       "          element.appendChild(docLink);\n",
       "        }\n",
       "      </script>\n",
       "    </div>\n",
       "  </div>\n",
       "  "
      ],
      "text/plain": [
       "Empty DataFrame\n",
       "Columns: [ORIG_ID, lifespan, YEAR, AGE, LAT, LON, DEAD, YEARS_REMAINING, BORN, DIEFUTURE, SURVIVED, datetime, temp, humidity]\n",
       "Index: []"
      ]
     },
     "execution_count": 99,
     "metadata": {},
     "output_type": "execute_result"
    }
   ],
   "source": [
    "# HOWEVER, THERE ARE NO DUPLICATES WITH SAME LIFESPAN\n",
    "colonies[colonies.duplicated(subset=['ORIG_ID', 'lifespan', 'AGE'], keep=False)]"
   ]
  },
  {
   "cell_type": "code",
   "execution_count": 100,
   "metadata": {
    "executionInfo": {
     "elapsed": 7,
     "status": "ok",
     "timestamp": 1670917065215,
     "user": {
      "displayName": "Henry Cerbone",
      "userId": "06775678993421421914"
     },
     "user_tz": 300
    },
    "id": "5mSNRgBJ4O_y"
   },
   "outputs": [],
   "source": [
    "for id in duplicates['ORIG_ID'].unique():\n",
    "  lifespans = colonies.loc[colonies['ORIG_ID'] == id, 'lifespan'].unique()\n",
    "  for j in range(len(lifespans)):\n",
    "    colonies.loc[(colonies['ORIG_ID'] == id) & (colonies['lifespan'] == lifespans[j]), 'ORIG_ID'] = id*10 + j"
   ]
  },
  {
   "cell_type": "code",
   "execution_count": 101,
   "metadata": {
    "colab": {
     "base_uri": "https://localhost:8080/",
     "height": 0
    },
    "executionInfo": {
     "elapsed": 7,
     "status": "ok",
     "timestamp": 1670917065215,
     "user": {
      "displayName": "Henry Cerbone",
      "userId": "06775678993421421914"
     },
     "user_tz": 300
    },
    "id": "QYnL0f4J2U8l",
    "outputId": "2c68fc28-b8e9-4f0f-f364-89a8f94d466f"
   },
   "outputs": [
    {
     "data": {
      "text/html": [
       "\n",
       "  <div id=\"df-9a5b842d-f9e9-4f0d-b7fc-2a192f1b7340\">\n",
       "    <div class=\"colab-df-container\">\n",
       "      <div>\n",
       "<style scoped>\n",
       "    .dataframe tbody tr th:only-of-type {\n",
       "        vertical-align: middle;\n",
       "    }\n",
       "\n",
       "    .dataframe tbody tr th {\n",
       "        vertical-align: top;\n",
       "    }\n",
       "\n",
       "    .dataframe thead th {\n",
       "        text-align: right;\n",
       "    }\n",
       "</style>\n",
       "<table border=\"1\" class=\"dataframe\">\n",
       "  <thead>\n",
       "    <tr style=\"text-align: right;\">\n",
       "      <th></th>\n",
       "      <th>ORIG_ID</th>\n",
       "      <th>lifespan</th>\n",
       "      <th>YEAR</th>\n",
       "      <th>AGE</th>\n",
       "      <th>LAT</th>\n",
       "      <th>LON</th>\n",
       "      <th>DEAD</th>\n",
       "      <th>YEARS_REMAINING</th>\n",
       "      <th>BORN</th>\n",
       "      <th>DIEFUTURE</th>\n",
       "      <th>SURVIVED</th>\n",
       "      <th>datetime</th>\n",
       "      <th>temp</th>\n",
       "      <th>humidity</th>\n",
       "    </tr>\n",
       "  </thead>\n",
       "  <tbody>\n",
       "  </tbody>\n",
       "</table>\n",
       "</div>\n",
       "      <button class=\"colab-df-convert\" onclick=\"convertToInteractive('df-9a5b842d-f9e9-4f0d-b7fc-2a192f1b7340')\"\n",
       "              title=\"Convert this dataframe to an interactive table.\"\n",
       "              style=\"display:none;\">\n",
       "        \n",
       "  <svg xmlns=\"http://www.w3.org/2000/svg\" height=\"24px\"viewBox=\"0 0 24 24\"\n",
       "       width=\"24px\">\n",
       "    <path d=\"M0 0h24v24H0V0z\" fill=\"none\"/>\n",
       "    <path d=\"M18.56 5.44l.94 2.06.94-2.06 2.06-.94-2.06-.94-.94-2.06-.94 2.06-2.06.94zm-11 1L8.5 8.5l.94-2.06 2.06-.94-2.06-.94L8.5 2.5l-.94 2.06-2.06.94zm10 10l.94 2.06.94-2.06 2.06-.94-2.06-.94-.94-2.06-.94 2.06-2.06.94z\"/><path d=\"M17.41 7.96l-1.37-1.37c-.4-.4-.92-.59-1.43-.59-.52 0-1.04.2-1.43.59L10.3 9.45l-7.72 7.72c-.78.78-.78 2.05 0 2.83L4 21.41c.39.39.9.59 1.41.59.51 0 1.02-.2 1.41-.59l7.78-7.78 2.81-2.81c.8-.78.8-2.07 0-2.86zM5.41 20L4 18.59l7.72-7.72 1.47 1.35L5.41 20z\"/>\n",
       "  </svg>\n",
       "      </button>\n",
       "      \n",
       "  <style>\n",
       "    .colab-df-container {\n",
       "      display:flex;\n",
       "      flex-wrap:wrap;\n",
       "      gap: 12px;\n",
       "    }\n",
       "\n",
       "    .colab-df-convert {\n",
       "      background-color: #E8F0FE;\n",
       "      border: none;\n",
       "      border-radius: 50%;\n",
       "      cursor: pointer;\n",
       "      display: none;\n",
       "      fill: #1967D2;\n",
       "      height: 32px;\n",
       "      padding: 0 0 0 0;\n",
       "      width: 32px;\n",
       "    }\n",
       "\n",
       "    .colab-df-convert:hover {\n",
       "      background-color: #E2EBFA;\n",
       "      box-shadow: 0px 1px 2px rgba(60, 64, 67, 0.3), 0px 1px 3px 1px rgba(60, 64, 67, 0.15);\n",
       "      fill: #174EA6;\n",
       "    }\n",
       "\n",
       "    [theme=dark] .colab-df-convert {\n",
       "      background-color: #3B4455;\n",
       "      fill: #D2E3FC;\n",
       "    }\n",
       "\n",
       "    [theme=dark] .colab-df-convert:hover {\n",
       "      background-color: #434B5C;\n",
       "      box-shadow: 0px 1px 3px 1px rgba(0, 0, 0, 0.15);\n",
       "      filter: drop-shadow(0px 1px 2px rgba(0, 0, 0, 0.3));\n",
       "      fill: #FFFFFF;\n",
       "    }\n",
       "  </style>\n",
       "\n",
       "      <script>\n",
       "        const buttonEl =\n",
       "          document.querySelector('#df-9a5b842d-f9e9-4f0d-b7fc-2a192f1b7340 button.colab-df-convert');\n",
       "        buttonEl.style.display =\n",
       "          google.colab.kernel.accessAllowed ? 'block' : 'none';\n",
       "\n",
       "        async function convertToInteractive(key) {\n",
       "          const element = document.querySelector('#df-9a5b842d-f9e9-4f0d-b7fc-2a192f1b7340');\n",
       "          const dataTable =\n",
       "            await google.colab.kernel.invokeFunction('convertToInteractive',\n",
       "                                                     [key], {});\n",
       "          if (!dataTable) return;\n",
       "\n",
       "          const docLinkHtml = 'Like what you see? Visit the ' +\n",
       "            '<a target=\"_blank\" href=https://colab.research.google.com/notebooks/data_table.ipynb>data table notebook</a>'\n",
       "            + ' to learn more about interactive tables.';\n",
       "          element.innerHTML = '';\n",
       "          dataTable['output_type'] = 'display_data';\n",
       "          await google.colab.output.renderOutput(dataTable, element);\n",
       "          const docLink = document.createElement('div');\n",
       "          docLink.innerHTML = docLinkHtml;\n",
       "          element.appendChild(docLink);\n",
       "        }\n",
       "      </script>\n",
       "    </div>\n",
       "  </div>\n",
       "  "
      ],
      "text/plain": [
       "Empty DataFrame\n",
       "Columns: [ORIG_ID, lifespan, YEAR, AGE, LAT, LON, DEAD, YEARS_REMAINING, BORN, DIEFUTURE, SURVIVED, datetime, temp, humidity]\n",
       "Index: []"
      ]
     },
     "execution_count": 101,
     "metadata": {},
     "output_type": "execute_result"
    }
   ],
   "source": [
    "colonies[colonies.duplicated(subset=['ORIG_ID', 'AGE'], keep=False)]"
   ]
  },
  {
   "cell_type": "code",
   "execution_count": 102,
   "metadata": {
    "executionInfo": {
     "elapsed": 1197,
     "status": "ok",
     "timestamp": 1670917066406,
     "user": {
      "displayName": "Henry Cerbone",
      "userId": "06775678993421421914"
     },
     "user_tz": 300
    },
    "id": "jOO83Nwu39W-"
   },
   "outputs": [],
   "source": [
    "cids = []\n",
    "iids = []\n",
    "\n",
    "for id in colonies['ORIG_ID'].unique():\n",
    "  temp = colonies.loc[colonies['ORIG_ID'] == id, 'lifespan']\n",
    "  if temp.shape[0] == temp.iloc[0] - 1:\n",
    "    cids.append(id)\n",
    "  else:\n",
    "    iids.append(id)"
   ]
  },
  {
   "cell_type": "code",
   "execution_count": 103,
   "metadata": {
    "colab": {
     "base_uri": "https://localhost:8080/"
    },
    "executionInfo": {
     "elapsed": 9,
     "status": "ok",
     "timestamp": 1670917066406,
     "user": {
      "displayName": "Henry Cerbone",
      "userId": "06775678993421421914"
     },
     "user_tz": 300
    },
    "id": "_MJF-uHs5lis",
    "outputId": "27102f1e-c540-4e64-b7db-e15d5311197e"
   },
   "outputs": [
    {
     "data": {
      "text/plain": [
       "682"
      ]
     },
     "execution_count": 103,
     "metadata": {},
     "output_type": "execute_result"
    }
   ],
   "source": [
    "len(cids)"
   ]
  },
  {
   "cell_type": "code",
   "execution_count": 104,
   "metadata": {
    "colab": {
     "base_uri": "https://localhost:8080/"
    },
    "executionInfo": {
     "elapsed": 8,
     "status": "ok",
     "timestamp": 1670917066407,
     "user": {
      "displayName": "Henry Cerbone",
      "userId": "06775678993421421914"
     },
     "user_tz": 300
    },
    "id": "73VkfisE6Bef",
    "outputId": "5649f28a-96d0-4229-d338-80703cb697ba"
   },
   "outputs": [
    {
     "data": {
      "text/plain": [
       "466"
      ]
     },
     "execution_count": 104,
     "metadata": {},
     "output_type": "execute_result"
    }
   ],
   "source": [
    "len(iids)"
   ]
  },
  {
   "cell_type": "markdown",
   "metadata": {
    "id": "ZPia6Vqp3Rrr"
   },
   "source": [
    "### Set Training/Test Split"
   ]
  },
  {
   "cell_type": "code",
   "execution_count": 105,
   "metadata": {
    "executionInfo": {
     "elapsed": 7,
     "status": "ok",
     "timestamp": 1670917066407,
     "user": {
      "displayName": "Henry Cerbone",
      "userId": "06775678993421421914"
     },
     "user_tz": 300
    },
    "id": "SUDZyLohPRSc"
   },
   "outputs": [],
   "source": [
    "years = colonies['YEAR'].unique()"
   ]
  },
  {
   "cell_type": "code",
   "execution_count": 106,
   "metadata": {
    "executionInfo": {
     "elapsed": 7,
     "status": "ok",
     "timestamp": 1670917066407,
     "user": {
      "displayName": "Henry Cerbone",
      "userId": "06775678993421421914"
     },
     "user_tz": 300
    },
    "id": "YfSaxvUgPo5N"
   },
   "outputs": [],
   "source": [
    "years_train = years[:int(0.9 * len(years))]\n",
    "years_test = years[int(0.9 * len(years)):]"
   ]
  },
  {
   "cell_type": "markdown",
   "metadata": {
    "id": "X5_OdznWzR6f"
   },
   "source": [
    "As previously discussed, we should train to split these sets environmentally (I think this will impart a large change on the data). This can be done by simply taking the average humidity/rainfall in the area (Rodeo, NM) at the end of August per year). Particularly becuase the training set below is going to be heavily drought years. "
   ]
  },
  {
   "cell_type": "code",
   "execution_count": 107,
   "metadata": {
    "colab": {
     "base_uri": "https://localhost:8080/"
    },
    "executionInfo": {
     "elapsed": 7,
     "status": "ok",
     "timestamp": 1670917066407,
     "user": {
      "displayName": "Henry Cerbone",
      "userId": "06775678993421421914"
     },
     "user_tz": 300
    },
    "id": "sUpwfTrIgSLQ",
    "outputId": "2e422eae-a7aa-4f1a-c9d2-c6f42e7a2a90"
   },
   "outputs": [
    {
     "data": {
      "text/plain": [
       "array([1984, 1985, 1986, 1987, 1988, 1989, 1990, 1991, 1992, 1993, 1994,\n",
       "       1995, 1996, 1997, 1998, 1999, 2000, 2001, 2002, 2003, 2004, 2005,\n",
       "       2006, 2007, 2008, 2009, 2010, 2011, 2012, 2013, 2014, 2015, 2016])"
      ]
     },
     "execution_count": 107,
     "metadata": {},
     "output_type": "execute_result"
    }
   ],
   "source": [
    "years_train"
   ]
  },
  {
   "cell_type": "code",
   "execution_count": 108,
   "metadata": {
    "colab": {
     "base_uri": "https://localhost:8080/"
    },
    "executionInfo": {
     "elapsed": 7,
     "status": "ok",
     "timestamp": 1670917066408,
     "user": {
      "displayName": "Henry Cerbone",
      "userId": "06775678993421421914"
     },
     "user_tz": 300
    },
    "id": "wXRRNMsVgl6i",
    "outputId": "2e209a47-dc4e-422d-9f44-a9cf295712e9"
   },
   "outputs": [
    {
     "data": {
      "text/plain": [
       "array([2017, 2018, 2019, 2020])"
      ]
     },
     "execution_count": 108,
     "metadata": {},
     "output_type": "execute_result"
    }
   ],
   "source": [
    "years_test"
   ]
  },
  {
   "cell_type": "code",
   "execution_count": 109,
   "metadata": {
    "executionInfo": {
     "elapsed": 7,
     "status": "ok",
     "timestamp": 1670917066408,
     "user": {
      "displayName": "Henry Cerbone",
      "userId": "06775678993421421914"
     },
     "user_tz": 300
    },
    "id": "FBRlqSL6tE8f"
   },
   "outputs": [],
   "source": [
    "TRAIN_SIZE = colonies[colonies['YEAR'].isin(years_train) & (colonies['BORN']==1)].shape[0]"
   ]
  },
  {
   "cell_type": "markdown",
   "metadata": {
    "id": "wzAue6Gj_ntf"
   },
   "source": [
    "## Compute Basic Features"
   ]
  },
  {
   "cell_type": "code",
   "execution_count": 110,
   "metadata": {
    "executionInfo": {
     "elapsed": 16007,
     "status": "ok",
     "timestamp": 1670917082409,
     "user": {
      "displayName": "Henry Cerbone",
      "userId": "06775678993421421914"
     },
     "user_tz": 300
    },
    "id": "hayoTYzY_m1K"
   },
   "outputs": [],
   "source": [
    "for y in years:\n",
    "    temp = colonies[colonies['YEAR'] == y]\n",
    "    n_colonies = temp.shape[0]\n",
    "    kd = KDTree(temp[['LAT', 'LON']].values)\n",
    "\n",
    "    MD = []\n",
    "    NA = []\n",
    "\n",
    "    for i in range(n_colonies):\n",
    "        nn = kd.query(temp[['LAT', 'LON']].values[i,:], k=2)[1]\n",
    "        nn = nn[1:]\n",
    "        dists = kd.query(temp[['LAT', 'LON']].values[i,:], k=2)[0]\n",
    "        dists = dists[1:]\n",
    "        MD.append(min(dists))\n",
    "        NA.append(sum(temp.iloc[nn]['AGE'].values))\n",
    "\n",
    "    colonies.loc[temp.index.values,'MIN_DIST'] = MD\n",
    "    colonies.loc[temp.index.values,'NEIGHBOR_AGE'] = NA"
   ]
  },
  {
   "cell_type": "markdown",
   "metadata": {
    "id": "zF4lGOMgPdUW"
   },
   "source": [
    "## Early Analysis"
   ]
  },
  {
   "cell_type": "markdown",
   "metadata": {
    "id": "HNypt1KoCl9J"
   },
   "source": [
    "### Survivorship"
   ]
  },
  {
   "cell_type": "code",
   "execution_count": null,
   "metadata": {
    "id": "a7XUT9jFfNhD"
   },
   "outputs": [],
   "source": [
    "ages = colonies.loc[colonies['ORIG_ID'].isin(cids), 'lifespan']\n",
    "max_age = max(ages)\n",
    "min_age = min(ages)\n",
    "cum_survival = []\n",
    "survival = []\n",
    "remaining = len(ages)\n",
    "\n",
    "for i in range(min_age, max_age+1):\n",
    "  survival.append((remaining - len(ages[ages >= i]))/remaining)\n",
    "  cum_survival.append(len(ages[ages >= i]) / len(ages))\n",
    "  remaining = len(ages[ages >= i])"
   ]
  },
  {
   "cell_type": "code",
   "execution_count": null,
   "metadata": {
    "colab": {
     "base_uri": "https://localhost:8080/",
     "height": 173
    },
    "executionInfo": {
     "elapsed": 402,
     "status": "ok",
     "timestamp": 1670914323124,
     "user": {
      "displayName": "Matt Smith",
      "userId": "09157084289317930379"
     },
     "user_tz": 300
    },
    "id": "juUkwK79h5Er",
    "outputId": "cb4eeaed-2d83-4d72-e6f5-8133a98d79ab"
   },
   "outputs": [
    {
     "data": {
      "text/plain": [
       "Text(0, 0.5, '% Decrease in Living Colonies')"
      ]
     },
     "execution_count": 53,
     "metadata": {},
     "output_type": "execute_result"
    },
    {
     "data": {
      "image/png": "[encoded data removed]",
      "text/plain": [
       "<Figure size 432x288 with 1 Axes>"
      ]
     },
     "metadata": {
      "needs_background": "light"
     },
     "output_type": "display_data"
    }
   ],
   "source": [
    "# survivorship deltas\n",
    "plt.bar(list(range(min_age, max_age+1)), survival)\n",
    "plt.title('Survivorship Deltas')\n",
    "plt.xlabel('Age')\n",
    "plt.ylabel('% Decrease in Living Colonies')"
   ]
  },
  {
   "cell_type": "code",
   "execution_count": null,
   "metadata": {
    "colab": {
     "base_uri": "https://localhost:8080/",
     "height": 156
    },
    "executionInfo": {
     "elapsed": 284,
     "status": "ok",
     "timestamp": 1670914323404,
     "user": {
      "displayName": "Matt Smith",
      "userId": "09157084289317930379"
     },
     "user_tz": 300
    },
    "id": "p8aKfx0BhNYQ",
    "outputId": "cac4b4d8-eda5-4abe-b217-a8de23a59406"
   },
   "outputs": [
    {
     "data": {
      "text/plain": [
       "Text(0, 0.5, '% of Colonies Alive')"
      ]
     },
     "execution_count": 54,
     "metadata": {},
     "output_type": "execute_result"
    },
    {
     "data": {
      "image/png": "[encoded data removed]",
      "text/plain": [
       "<Figure size 432x288 with 1 Axes>"
      ]
     },
     "metadata": {
      "needs_background": "light"
     },
     "output_type": "display_data"
    }
   ],
   "source": [
    "# survivorship curve\n",
    "plt.bar(list(range(min_age, max_age+1)), cum_survival)\n",
    "plt.title('Survivorship Curve')\n",
    "plt.xlabel('Age')\n",
    "plt.ylabel('% of Colonies Alive')"
   ]
  },
  {
   "cell_type": "markdown",
   "metadata": {
    "id": "I6gfJ5YHCoza"
   },
   "source": [
    "### Distance"
   ]
  },
  {
   "cell_type": "code",
   "execution_count": null,
   "metadata": {
    "colab": {
     "base_uri": "https://localhost:8080/",
     "height": 785
    },
    "executionInfo": {
     "elapsed": 267,
     "status": "ok",
     "timestamp": 1670914323666,
     "user": {
      "displayName": "Matt Smith",
      "userId": "09157084289317930379"
     },
     "user_tz": 300
    },
    "id": "P8JSNHKuBsXz",
    "outputId": "7d0161ed-2d62-43b0-8034-d6d0b0d41261"
   },
   "outputs": [
    {
     "data": {
      "text/plain": [
       "(array([7.120e+02, 4.382e+03, 4.322e+03, 1.260e+03, 3.610e+02, 6.900e+01,\n",
       "        3.900e+01, 2.200e+01, 2.000e+00, 1.300e+01]),\n",
       " array([6.24599872e-06, 5.06007127e-05, 9.49554267e-05, 1.39310141e-04,\n",
       "        1.83664855e-04, 2.28019569e-04, 2.72374283e-04, 3.16728997e-04,\n",
       "        3.61083711e-04, 4.05438425e-04, 4.49793139e-04]),\n",
       " <a list of 10 Patch objects>)"
      ]
     },
     "execution_count": 55,
     "metadata": {},
     "output_type": "execute_result"
    },
    {
     "data": {
      "image/png": "[encoded data removed]",
      "text/plain": [
       "<Figure size 432x288 with 1 Axes>"
      ]
     },
     "metadata": {
      "needs_background": "light"
     },
     "output_type": "display_data"
    }
   ],
   "source": [
    "plt.hist(colonies['MIN_DIST'])"
   ]
  },
  {
   "cell_type": "code",
   "execution_count": null,
   "metadata": {
    "colab": {
     "base_uri": "https://localhost:8080/",
     "height": 615
    },
    "executionInfo": {
     "elapsed": 310,
     "status": "ok",
     "timestamp": 1670914323972,
     "user": {
      "displayName": "Matt Smith",
      "userId": "09157084289317930379"
     },
     "user_tz": 300
    },
    "id": "xqD3jX6SBytP",
    "outputId": "8a3502ff-3124-4341-ea08-db4c446f2653"
   },
   "outputs": [
    {
     "data": {
      "text/plain": [
       "(array([2.000e+00, 1.200e+01, 2.000e+01, 1.500e+02, 6.260e+02, 2.358e+03,\n",
       "        5.187e+03, 2.429e+03, 3.470e+02, 5.100e+01]),\n",
       " array([-11.9835695 , -11.55588483, -11.12820016, -10.70051548,\n",
       "        -10.27283081,  -9.84514614,  -9.41746147,  -8.98977679,\n",
       "         -8.56209212,  -8.13440745,  -7.70672277]),\n",
       " <a list of 10 Patch objects>)"
      ]
     },
     "execution_count": 56,
     "metadata": {},
     "output_type": "execute_result"
    },
    {
     "data": {
      "image/png": "[encoded data removed]",
      "text/plain": [
       "<Figure size 432x288 with 1 Axes>"
      ]
     },
     "metadata": {
      "needs_background": "light"
     },
     "output_type": "display_data"
    }
   ],
   "source": [
    "colonies['LOG_MIN_DIST'] = np.log(colonies['MIN_DIST'])\n",
    "plt.hist(colonies['LOG_MIN_DIST'])"
   ]
  },
  {
   "cell_type": "code",
   "execution_count": null,
   "metadata": {
    "colab": {
     "base_uri": "https://localhost:8080/",
     "height": 190
    },
    "executionInfo": {
     "elapsed": 863,
     "status": "ok",
     "timestamp": 1670914324832,
     "user": {
      "displayName": "Matt Smith",
      "userId": "09157084289317930379"
     },
     "user_tz": 300
    },
    "id": "nNUSpeOOAmRS",
    "outputId": "7c771482-b664-4d35-e911-60b9691d9802"
   },
   "outputs": [
    {
     "data": {
      "text/plain": [
       "Text(0, 0.5, 'Log Min Distance to Nearest Neighbor')"
      ]
     },
     "execution_count": 57,
     "metadata": {},
     "output_type": "execute_result"
    },
    {
     "data": {
      "image/png": "[encoded data removed]",
      "text/plain": [
       "<Figure size 432x288 with 1 Axes>"
      ]
     },
     "metadata": {
      "needs_background": "light"
     },
     "output_type": "display_data"
    }
   ],
   "source": [
    "plt.scatter(colonies['AGE'], colonies['LOG_MIN_DIST'])\n",
    "plt.xlabel('Age of Colony')\n",
    "plt.ylabel('Log Min Distance to Nearest Neighbor')"
   ]
  },
  {
   "cell_type": "code",
   "execution_count": null,
   "metadata": {
    "colab": {
     "base_uri": "https://localhost:8080/",
     "height": 105
    },
    "executionInfo": {
     "elapsed": 14,
     "status": "ok",
     "timestamp": 1670914324833,
     "user": {
      "displayName": "Matt Smith",
      "userId": "09157084289317930379"
     },
     "user_tz": 300
    },
    "id": "bzJ77COmHGO_",
    "outputId": "37f7f4bc-e3aa-48a6-c30c-cbca7cbffefa"
   },
   "outputs": [
    {
     "data": {
      "text/plain": [
       "[<matplotlib.lines.Line2D at 0x7f5ed80ebdf0>]"
      ]
     },
     "execution_count": 58,
     "metadata": {},
     "output_type": "execute_result"
    },
    {
     "data": {
      "image/png": "[encoded data removed]",
      "text/plain": [
       "<Figure size 432x288 with 1 Axes>"
      ]
     },
     "metadata": {
      "needs_background": "light"
     },
     "output_type": "display_data"
    }
   ],
   "source": [
    "plt.plot(colonies.groupby('AGE')['LOG_MIN_DIST'].mean())"
   ]
  },
  {
   "cell_type": "code",
   "execution_count": null,
   "metadata": {
    "colab": {
     "base_uri": "https://localhost:8080/",
     "height": 394
    },
    "executionInfo": {
     "elapsed": 10,
     "status": "ok",
     "timestamp": 1670914324833,
     "user": {
      "displayName": "Matt Smith",
      "userId": "09157084289317930379"
     },
     "user_tz": 300
    },
    "id": "5rZ_mCsaAzVA",
    "outputId": "66244963-242c-4019-b7b5-257fc70f7b19"
   },
   "outputs": [
    {
     "data": {
      "text/plain": [
       "[Text(0, 0.5, 'log Distance'),\n",
       " Text(0.5, 0, 'Indication of Death in Following Year'),\n",
       " Text(0.5, 1.0, 'Survivorship Prediction by Distance')]"
      ]
     },
     "execution_count": 59,
     "metadata": {},
     "output_type": "execute_result"
    },
    {
     "data": {
      "image/png": "[encoded data removed]",
      "text/plain": [
       "<Figure size 432x288 with 1 Axes>"
      ]
     },
     "metadata": {
      "needs_background": "light"
     },
     "output_type": "display_data"
    }
   ],
   "source": [
    "sns.boxplot(x = colonies['DIEFUTURE'],\n",
    "            y = colonies['LOG_MIN_DIST']).set(xlabel='Indication of Death in Following Year', ylabel='log Distance', title='Survivorship Prediction by Distance')"
   ]
  },
  {
   "cell_type": "markdown",
   "metadata": {
    "id": "X6CqflZ4CrjU"
   },
   "source": [
    "### Age "
   ]
  },
  {
   "cell_type": "code",
   "execution_count": null,
   "metadata": {
    "colab": {
     "base_uri": "https://localhost:8080/",
     "height": 632
    },
    "executionInfo": {
     "elapsed": 117,
     "status": "ok",
     "timestamp": 1670914325070,
     "user": {
      "displayName": "Matt Smith",
      "userId": "09157084289317930379"
     },
     "user_tz": 300
    },
    "id": "XajW6HMwCPh8",
    "outputId": "e280ffb1-6793-438b-be61-e86b3cae0f81"
   },
   "outputs": [
    {
     "data": {
      "text/plain": [
       "(array([4229., 2928., 1401., 1192.,  578.,  463.,  252.,   65.,   51.,\n",
       "          23.]),\n",
       " array([ 1. ,  4.6,  8.2, 11.8, 15.4, 19. , 22.6, 26.2, 29.8, 33.4, 37. ]),\n",
       " <a list of 10 Patch objects>)"
      ]
     },
     "execution_count": 60,
     "metadata": {},
     "output_type": "execute_result"
    },
    {
     "data": {
      "image/png": "[encoded data removed]",
      "text/plain": [
       "<Figure size 432x288 with 1 Axes>"
      ]
     },
     "metadata": {
      "needs_background": "light"
     },
     "output_type": "display_data"
    }
   ],
   "source": [
    "plt.hist(colonies['NEIGHBOR_AGE'])"
   ]
  },
  {
   "cell_type": "code",
   "execution_count": null,
   "metadata": {
    "colab": {
     "base_uri": "https://localhost:8080/",
     "height": 224
    },
    "executionInfo": {
     "elapsed": 1104,
     "status": "ok",
     "timestamp": 1670914326170,
     "user": {
      "displayName": "Matt Smith",
      "userId": "09157084289317930379"
     },
     "user_tz": 300
    },
    "id": "fc8skCPkCa73",
    "outputId": "4da7a1e4-86dc-4efa-f283-68b076d318f1"
   },
   "outputs": [
    {
     "data": {
      "text/plain": [
       "Text(0.5, 1.0, 'Age of Colony vs Age of Nearest Neighbor')"
      ]
     },
     "execution_count": 61,
     "metadata": {},
     "output_type": "execute_result"
    },
    {
     "data": {
      "image/png": "[encoded data removed]",
      "text/plain": [
       "<Figure size 432x288 with 1 Axes>"
      ]
     },
     "metadata": {
      "needs_background": "light"
     },
     "output_type": "display_data"
    }
   ],
   "source": [
    "plt.scatter(colonies['AGE'], colonies['NEIGHBOR_AGE'])\n",
    "plt.xlabel('Age of Colony')\n",
    "plt.ylabel('Age of Nearest Neighbor')\n",
    "plt.title('Age of Colony vs Age of Nearest Neighbor')"
   ]
  },
  {
   "cell_type": "code",
   "execution_count": null,
   "metadata": {
    "colab": {
     "base_uri": "https://localhost:8080/",
     "height": 411
    },
    "executionInfo": {
     "elapsed": 646,
     "status": "ok",
     "timestamp": 1670914326811,
     "user": {
      "displayName": "Matt Smith",
      "userId": "09157084289317930379"
     },
     "user_tz": 300
    },
    "id": "hCnXu3U0C72i",
    "outputId": "de751210-7dd4-49ef-ba18-1d18872c50fe"
   },
   "outputs": [
    {
     "data": {
      "text/plain": [
       "[Text(0, 0.5, 'Neighbor Age'),\n",
       " Text(0.5, 0, 'Indication of Death in Following Year'),\n",
       " Text(0.5, 1.0, 'Survivorship Predicition by Neighbor Age')]"
      ]
     },
     "execution_count": 62,
     "metadata": {},
     "output_type": "execute_result"
    },
    {
     "data": {
      "image/png": "[encoded data removed]",
      "text/plain": [
       "<Figure size 432x288 with 1 Axes>"
      ]
     },
     "metadata": {
      "needs_background": "light"
     },
     "output_type": "display_data"
    }
   ],
   "source": [
    "sns.boxplot(x = colonies['DIEFUTURE'],\n",
    "            y = colonies['NEIGHBOR_AGE']).set(xlabel='Indication of Death in Following Year', ylabel='Neighbor Age', title='Survivorship Predicition by Neighbor Age')"
   ]
  },
  {
   "cell_type": "markdown",
   "metadata": {
    "id": "OvR9iTKesIR3"
   },
   "source": [
    "### Weather"
   ]
  },
  {
   "cell_type": "code",
   "execution_count": null,
   "metadata": {
    "colab": {
     "base_uri": "https://localhost:8080/",
     "height": 105
    },
    "executionInfo": {
     "elapsed": 209,
     "status": "ok",
     "timestamp": 1670914327016,
     "user": {
      "displayName": "Matt Smith",
      "userId": "09157084289317930379"
     },
     "user_tz": 300
    },
    "id": "-_AI0JV4sHwj",
    "outputId": "96b6073e-8f19-487f-f54f-fede6b26d3d2"
   },
   "outputs": [
    {
     "data": {
      "text/plain": [
       "[<matplotlib.lines.Line2D at 0x7f5ed7e77ee0>]"
      ]
     },
     "execution_count": 63,
     "metadata": {},
     "output_type": "execute_result"
    },
    {
     "data": {
      "image/png": "[encoded data removed]",
      "text/plain": [
       "<Figure size 432x288 with 1 Axes>"
      ]
     },
     "metadata": {
      "needs_background": "light"
     },
     "output_type": "display_data"
    }
   ],
   "source": [
    "plt.plot(weather['temp'])"
   ]
  },
  {
   "cell_type": "code",
   "execution_count": null,
   "metadata": {
    "colab": {
     "base_uri": "https://localhost:8080/",
     "height": 105
    },
    "executionInfo": {
     "elapsed": 316,
     "status": "ok",
     "timestamp": 1670914327326,
     "user": {
      "displayName": "Matt Smith",
      "userId": "09157084289317930379"
     },
     "user_tz": 300
    },
    "id": "bAaQkOYLsRtU",
    "outputId": "6c76018a-823a-4f8e-d300-ced7c6f0e0a5"
   },
   "outputs": [
    {
     "data": {
      "text/plain": [
       "[<matplotlib.lines.Line2D at 0x7f5ed7e58580>]"
      ]
     },
     "execution_count": 64,
     "metadata": {},
     "output_type": "execute_result"
    },
    {
     "data": {
      "image/png": "[encoded data removed]",
      "text/plain": [
       "<Figure size 432x288 with 1 Axes>"
      ]
     },
     "metadata": {
      "needs_background": "light"
     },
     "output_type": "display_data"
    }
   ],
   "source": [
    "plt.plot(weather['humidity'])"
   ]
  },
  {
   "cell_type": "code",
   "execution_count": null,
   "metadata": {
    "colab": {
     "base_uri": "https://localhost:8080/",
     "height": 377
    },
    "executionInfo": {
     "elapsed": 692,
     "status": "ok",
     "timestamp": 1670914328014,
     "user": {
      "displayName": "Matt Smith",
      "userId": "09157084289317930379"
     },
     "user_tz": 300
    },
    "id": "-0F8ojIusq9w",
    "outputId": "5cef0dbf-696f-4883-ab61-783122b7a994"
   },
   "outputs": [
    {
     "data": {
      "text/plain": [
       "[Text(0, 0.5, 'Temperature'),\n",
       " Text(0.5, 0, 'Indication of Death in Following Year'),\n",
       " Text(0.5, 1.0, 'Survivorship Predicition by Temperature')]"
      ]
     },
     "execution_count": 65,
     "metadata": {},
     "output_type": "execute_result"
    },
    {
     "data": {
      "image/png": "[encoded data removed]",
      "text/plain": [
       "<Figure size 432x288 with 1 Axes>"
      ]
     },
     "metadata": {
      "needs_background": "light"
     },
     "output_type": "display_data"
    }
   ],
   "source": [
    "sns.boxplot(x = colonies['DIEFUTURE'],\n",
    "            y = colonies['temp']).set(xlabel='Indication of Death in Following Year', ylabel='Temperature', title='Survivorship Predicition by Temperature')"
   ]
  },
  {
   "cell_type": "code",
   "execution_count": null,
   "metadata": {
    "colab": {
     "base_uri": "https://localhost:8080/",
     "height": 377
    },
    "executionInfo": {
     "elapsed": 257,
     "status": "ok",
     "timestamp": 1670914328267,
     "user": {
      "displayName": "Matt Smith",
      "userId": "09157084289317930379"
     },
     "user_tz": 300
    },
    "id": "cQ35LitGswVL",
    "outputId": "ebbfac1c-8119-4bed-ce97-dfec83d09012"
   },
   "outputs": [
    {
     "data": {
      "text/plain": [
       "[Text(0, 0.5, 'Humidity'),\n",
       " Text(0.5, 0, 'Indication of Death in Following Year'),\n",
       " Text(0.5, 1.0, 'Survivorship Predicition by Humidity')]"
      ]
     },
     "execution_count": 66,
     "metadata": {},
     "output_type": "execute_result"
    },
    {
     "data": {
      "image/png": "[encoded data removed]",
      "text/plain": [
       "<Figure size 432x288 with 1 Axes>"
      ]
     },
     "metadata": {
      "needs_background": "light"
     },
     "output_type": "display_data"
    }
   ],
   "source": [
    "sns.boxplot(x = colonies['DIEFUTURE'],\n",
    "            y = colonies['humidity']).set(xlabel='Indication of Death in Following Year', ylabel='Humidity', title='Survivorship Predicition by Humidity')"
   ]
  },
  {
   "cell_type": "markdown",
   "metadata": {
    "id": "aXH1p7tAyYKy"
   },
   "source": [
    "## Model Definition"
   ]
  },
  {
   "cell_type": "code",
   "execution_count": 116,
   "metadata": {
    "executionInfo": {
     "elapsed": 349,
     "status": "ok",
     "timestamp": 1670917147538,
     "user": {
      "displayName": "Henry Cerbone",
      "userId": "06775678993421421914"
     },
     "user_tz": 300
    },
    "id": "pHBjWJcyyXOv"
   },
   "outputs": [],
   "source": [
    "# Use balanced weighting of classes because far more colonies live than die\n",
    "lm = LogisticRegression(class_weight='balanced')"
   ]
  },
  {
   "cell_type": "code",
   "execution_count": 117,
   "metadata": {
    "executionInfo": {
     "elapsed": 2,
     "status": "ok",
     "timestamp": 1670917147895,
     "user": {
      "displayName": "Henry Cerbone",
      "userId": "06775678993421421914"
     },
     "user_tz": 300
    },
    "id": "aUCT9LJvyc8j"
   },
   "outputs": [],
   "source": [
    "# Use leave one out cross validation \n",
    "cv = KFold(n_splits=TRAIN_SIZE, shuffle=False)"
   ]
  },
  {
   "cell_type": "markdown",
   "metadata": {
    "id": "FxauevrCRSf1"
   },
   "source": [
    "## Baseline Models"
   ]
  },
  {
   "cell_type": "code",
   "execution_count": 118,
   "metadata": {
    "executionInfo": {
     "elapsed": 398,
     "status": "ok",
     "timestamp": 1670917151592,
     "user": {
      "displayName": "Henry Cerbone",
      "userId": "06775678993421421914"
     },
     "user_tz": 300
    },
    "id": "rhUnVl85x0GG"
   },
   "outputs": [],
   "source": [
    "factors = ['MIN_DIST', 'NEIGHBOR_AGE', 'temp', 'humidity']\n",
    "subsets = []\n",
    "results1 = []"
   ]
  },
  {
   "cell_type": "code",
   "execution_count": 119,
   "metadata": {
    "executionInfo": {
     "elapsed": 3,
     "status": "ok",
     "timestamp": 1670917152777,
     "user": {
      "displayName": "Henry Cerbone",
      "userId": "06775678993421421914"
     },
     "user_tz": 300
    },
    "id": "3PfzgmcayOcY"
   },
   "outputs": [],
   "source": [
    "for L in range(1, len(factors) + 1):\n",
    "    for subset in itertools.combinations(factors, L):\n",
    "        subsets.append(list(subset))"
   ]
  },
  {
   "cell_type": "code",
   "execution_count": 120,
   "metadata": {
    "colab": {
     "base_uri": "https://localhost:8080/",
     "height": 49,
     "referenced_widgets": [
      "027398c3e28d4133aa510e9b0fc7abd7",
      "b87d6f38b99240b5aedba8f580a5961d",
      "0616e20a5cb24650b48bbaf49a86fac5",
      "601c5f429b90401f98550bf85f3a2ddb",
      "37d33ca480b64ca1bdd7190b5e2983f8",
      "78bb51589dad4e47b2cc4e8e5ac4a3c5",
      "37bd0423d96f493e805ce8e59ab7b58b",
      "ed51e58e630d49478d3648d61ec80fa2",
      "ed29d87836b44ca4b975774835e164f7",
      "6c27045de8d74d56b3e71e22939470ae",
      "323a0a78f5f841fcb97d2f550b5bf7bd"
     ]
    },
    "executionInfo": {
     "elapsed": 103271,
     "status": "ok",
     "timestamp": 1670917257128,
     "user": {
      "displayName": "Henry Cerbone",
      "userId": "06775678993421421914"
     },
     "user_tz": 300
    },
    "id": "84YKbNSxywlw",
    "outputId": "16bab441-07d4-4a49-c202-ad8b8293eed6"
   },
   "outputs": [
    {
     "data": {
      "application/vnd.jupyter.widget-view+json": {
       "model_id": "027398c3e28d4133aa510e9b0fc7abd7",
       "version_major": 2,
       "version_minor": 0
      },
      "text/plain": [
       "  0%|          | 0/15 [00:00<?, ?it/s]"
      ]
     },
     "metadata": {},
     "output_type": "display_data"
    }
   ],
   "source": [
    "for subset in tqdm(subsets):\n",
    "  X_train = colonies.loc[colonies['YEAR'].isin(years_train) & (colonies['BORN'] == 1), subset].values\n",
    "  y_train = colonies.loc[colonies['YEAR'].isin(years_train) & (colonies['BORN'] == 1), 'DIEFUTURE'].values\n",
    "\n",
    "  hits = cross_val_score(lm, X_train, y_train, scoring='accuracy', cv=cv)\n",
    "  die_acc = (hits * y_train).sum() / y_train.sum()\n",
    "  live_acc = (hits * (1-y_train)).sum() / (1-y_train).sum()\n",
    "\n",
    "  results1.append((die_acc + live_acc)/2)"
   ]
  },
  {
   "cell_type": "code",
   "execution_count": 121,
   "metadata": {
    "colab": {
     "base_uri": "https://localhost:8080/"
    },
    "executionInfo": {
     "elapsed": 451,
     "status": "ok",
     "timestamp": 1670917324396,
     "user": {
      "displayName": "Henry Cerbone",
      "userId": "06775678993421421914"
     },
     "user_tz": 300
    },
    "id": "XIizgGTUzcY2",
    "outputId": "99a413ec-2c9b-4557-8654-e0374bfe8dff"
   },
   "outputs": [
    {
     "name": "stderr",
     "output_type": "stream",
     "text": [
      "<ipython-input-121-73349413a12d>:2: VisibleDeprecationWarning: Creating an ndarray from ragged nested sequences (which is a list-or-tuple of lists-or-tuples-or ndarrays with different lengths or shapes) is deprecated. If you meant to do this, you must specify 'dtype=object' when creating the ndarray.\n",
      "  subsets = np.array(subsets)\n"
     ]
    }
   ],
   "source": [
    "results1 = np.array(results1)\n",
    "subsets = np.array(subsets)"
   ]
  },
  {
   "cell_type": "code",
   "execution_count": 122,
   "metadata": {
    "colab": {
     "base_uri": "https://localhost:8080/"
    },
    "executionInfo": {
     "elapsed": 408,
     "status": "ok",
     "timestamp": 1670917326400,
     "user": {
      "displayName": "Henry Cerbone",
      "userId": "06775678993421421914"
     },
     "user_tz": 300
    },
    "id": "lNdCqRfkzzG4",
    "outputId": "57fa1073-3a7a-4701-9995-7b312052203d"
   },
   "outputs": [
    {
     "data": {
      "text/plain": [
       "0.5621846579040396"
      ]
     },
     "execution_count": 122,
     "metadata": {},
     "output_type": "execute_result"
    }
   ],
   "source": [
    "np.max(results1)"
   ]
  },
  {
   "cell_type": "code",
   "execution_count": 123,
   "metadata": {
    "colab": {
     "base_uri": "https://localhost:8080/"
    },
    "executionInfo": {
     "elapsed": 262,
     "status": "ok",
     "timestamp": 1670917328098,
     "user": {
      "displayName": "Henry Cerbone",
      "userId": "06775678993421421914"
     },
     "user_tz": 300
    },
    "id": "7l_PqwCdzdrr",
    "outputId": "6cd28f07-9966-4fc7-a2f5-55a3d8ae63f8"
   },
   "outputs": [
    {
     "data": {
      "text/plain": [
       "array([[list(['NEIGHBOR_AGE', 'temp'])],\n",
       "       [list(['MIN_DIST', 'NEIGHBOR_AGE', 'temp'])]], dtype=object)"
      ]
     },
     "execution_count": 123,
     "metadata": {},
     "output_type": "execute_result"
    }
   ],
   "source": [
    "subsets[np.argwhere(results1 == np.max(results1))]"
   ]
  },
  {
   "cell_type": "code",
   "execution_count": 124,
   "metadata": {
    "colab": {
     "base_uri": "https://localhost:8080/"
    },
    "executionInfo": {
     "elapsed": 285,
     "status": "ok",
     "timestamp": 1670917329803,
     "user": {
      "displayName": "Henry Cerbone",
      "userId": "06775678993421421914"
     },
     "user_tz": 300
    },
    "id": "68n0_aw97xqR",
    "outputId": "f9ef3c22-75fa-44da-c0f2-107557465c51"
   },
   "outputs": [
    {
     "data": {
      "text/plain": [
       "0.49845743484269045"
      ]
     },
     "execution_count": 124,
     "metadata": {},
     "output_type": "execute_result"
    }
   ],
   "source": [
    "np.min(results1)"
   ]
  },
  {
   "cell_type": "code",
   "execution_count": 125,
   "metadata": {
    "colab": {
     "base_uri": "https://localhost:8080/"
    },
    "executionInfo": {
     "elapsed": 262,
     "status": "ok",
     "timestamp": 1670917332111,
     "user": {
      "displayName": "Henry Cerbone",
      "userId": "06775678993421421914"
     },
     "user_tz": 300
    },
    "id": "E7n_O6W17zAu",
    "outputId": "ade4b43c-778b-4c08-935a-82d286eac450"
   },
   "outputs": [
    {
     "data": {
      "text/plain": [
       "array([[list(['NEIGHBOR_AGE', 'temp', 'humidity'])],\n",
       "       [list(['MIN_DIST', 'NEIGHBOR_AGE', 'temp', 'humidity'])]],\n",
       "      dtype=object)"
      ]
     },
     "execution_count": 125,
     "metadata": {},
     "output_type": "execute_result"
    }
   ],
   "source": [
    "subsets[np.argwhere(results1 == np.min(results1))]"
   ]
  },
  {
   "cell_type": "code",
   "execution_count": 127,
   "metadata": {
    "colab": {
     "base_uri": "https://localhost:8080/",
     "height": 520
    },
    "executionInfo": {
     "elapsed": 293,
     "status": "ok",
     "timestamp": 1670917405862,
     "user": {
      "displayName": "Henry Cerbone",
      "userId": "06775678993421421914"
     },
     "user_tz": 300
    },
    "id": "MC9HOkj4xQeZ",
    "outputId": "2ea0a11a-2596-4e17-d0c1-45d1bbc1d9ab"
   },
   "outputs": [
    {
     "data": {
      "text/html": [
       "\n",
       "  <div id=\"df-5c2d1a5e-8e82-4a95-bda0-361a73afe7b8\">\n",
       "    <div class=\"colab-df-container\">\n",
       "      <div>\n",
       "<style scoped>\n",
       "    .dataframe tbody tr th:only-of-type {\n",
       "        vertical-align: middle;\n",
       "    }\n",
       "\n",
       "    .dataframe tbody tr th {\n",
       "        vertical-align: top;\n",
       "    }\n",
       "\n",
       "    .dataframe thead th {\n",
       "        text-align: right;\n",
       "    }\n",
       "</style>\n",
       "<table border=\"1\" class=\"dataframe\">\n",
       "  <thead>\n",
       "    <tr style=\"text-align: right;\">\n",
       "      <th></th>\n",
       "      <th>Variables</th>\n",
       "      <th>CV</th>\n",
       "    </tr>\n",
       "  </thead>\n",
       "  <tbody>\n",
       "    <tr>\n",
       "      <th>0</th>\n",
       "      <td>[MIN_DIST]</td>\n",
       "      <td>0.500000</td>\n",
       "    </tr>\n",
       "    <tr>\n",
       "      <th>1</th>\n",
       "      <td>[NEIGHBOR_AGE]</td>\n",
       "      <td>0.556030</td>\n",
       "    </tr>\n",
       "    <tr>\n",
       "      <th>2</th>\n",
       "      <td>[temp]</td>\n",
       "      <td>0.520134</td>\n",
       "    </tr>\n",
       "    <tr>\n",
       "      <th>3</th>\n",
       "      <td>[humidity]</td>\n",
       "      <td>0.525597</td>\n",
       "    </tr>\n",
       "    <tr>\n",
       "      <th>4</th>\n",
       "      <td>[MIN_DIST, NEIGHBOR_AGE]</td>\n",
       "      <td>0.556030</td>\n",
       "    </tr>\n",
       "    <tr>\n",
       "      <th>5</th>\n",
       "      <td>[MIN_DIST, temp]</td>\n",
       "      <td>0.520134</td>\n",
       "    </tr>\n",
       "    <tr>\n",
       "      <th>6</th>\n",
       "      <td>[MIN_DIST, humidity]</td>\n",
       "      <td>0.525597</td>\n",
       "    </tr>\n",
       "    <tr>\n",
       "      <th>7</th>\n",
       "      <td>[NEIGHBOR_AGE, temp]</td>\n",
       "      <td>0.562185</td>\n",
       "    </tr>\n",
       "    <tr>\n",
       "      <th>8</th>\n",
       "      <td>[NEIGHBOR_AGE, humidity]</td>\n",
       "      <td>0.534515</td>\n",
       "    </tr>\n",
       "    <tr>\n",
       "      <th>9</th>\n",
       "      <td>[temp, humidity]</td>\n",
       "      <td>0.520134</td>\n",
       "    </tr>\n",
       "    <tr>\n",
       "      <th>10</th>\n",
       "      <td>[MIN_DIST, NEIGHBOR_AGE, temp]</td>\n",
       "      <td>0.562185</td>\n",
       "    </tr>\n",
       "    <tr>\n",
       "      <th>11</th>\n",
       "      <td>[MIN_DIST, NEIGHBOR_AGE, humidity]</td>\n",
       "      <td>0.534515</td>\n",
       "    </tr>\n",
       "    <tr>\n",
       "      <th>12</th>\n",
       "      <td>[MIN_DIST, temp, humidity]</td>\n",
       "      <td>0.520134</td>\n",
       "    </tr>\n",
       "    <tr>\n",
       "      <th>13</th>\n",
       "      <td>[NEIGHBOR_AGE, temp, humidity]</td>\n",
       "      <td>0.498457</td>\n",
       "    </tr>\n",
       "    <tr>\n",
       "      <th>14</th>\n",
       "      <td>[MIN_DIST, NEIGHBOR_AGE, temp, humidity]</td>\n",
       "      <td>0.498457</td>\n",
       "    </tr>\n",
       "  </tbody>\n",
       "</table>\n",
       "</div>\n",
       "      <button class=\"colab-df-convert\" onclick=\"convertToInteractive('df-5c2d1a5e-8e82-4a95-bda0-361a73afe7b8')\"\n",
       "              title=\"Convert this dataframe to an interactive table.\"\n",
       "              style=\"display:none;\">\n",
       "        \n",
       "  <svg xmlns=\"http://www.w3.org/2000/svg\" height=\"24px\"viewBox=\"0 0 24 24\"\n",
       "       width=\"24px\">\n",
       "    <path d=\"M0 0h24v24H0V0z\" fill=\"none\"/>\n",
       "    <path d=\"M18.56 5.44l.94 2.06.94-2.06 2.06-.94-2.06-.94-.94-2.06-.94 2.06-2.06.94zm-11 1L8.5 8.5l.94-2.06 2.06-.94-2.06-.94L8.5 2.5l-.94 2.06-2.06.94zm10 10l.94 2.06.94-2.06 2.06-.94-2.06-.94-.94-2.06-.94 2.06-2.06.94z\"/><path d=\"M17.41 7.96l-1.37-1.37c-.4-.4-.92-.59-1.43-.59-.52 0-1.04.2-1.43.59L10.3 9.45l-7.72 7.72c-.78.78-.78 2.05 0 2.83L4 21.41c.39.39.9.59 1.41.59.51 0 1.02-.2 1.41-.59l7.78-7.78 2.81-2.81c.8-.78.8-2.07 0-2.86zM5.41 20L4 18.59l7.72-7.72 1.47 1.35L5.41 20z\"/>\n",
       "  </svg>\n",
       "      </button>\n",
       "      \n",
       "  <style>\n",
       "    .colab-df-container {\n",
       "      display:flex;\n",
       "      flex-wrap:wrap;\n",
       "      gap: 12px;\n",
       "    }\n",
       "\n",
       "    .colab-df-convert {\n",
       "      background-color: #E8F0FE;\n",
       "      border: none;\n",
       "      border-radius: 50%;\n",
       "      cursor: pointer;\n",
       "      display: none;\n",
       "      fill: #1967D2;\n",
       "      height: 32px;\n",
       "      padding: 0 0 0 0;\n",
       "      width: 32px;\n",
       "    }\n",
       "\n",
       "    .colab-df-convert:hover {\n",
       "      background-color: #E2EBFA;\n",
       "      box-shadow: 0px 1px 2px rgba(60, 64, 67, 0.3), 0px 1px 3px 1px rgba(60, 64, 67, 0.15);\n",
       "      fill: #174EA6;\n",
       "    }\n",
       "\n",
       "    [theme=dark] .colab-df-convert {\n",
       "      background-color: #3B4455;\n",
       "      fill: #D2E3FC;\n",
       "    }\n",
       "\n",
       "    [theme=dark] .colab-df-convert:hover {\n",
       "      background-color: #434B5C;\n",
       "      box-shadow: 0px 1px 3px 1px rgba(0, 0, 0, 0.15);\n",
       "      filter: drop-shadow(0px 1px 2px rgba(0, 0, 0, 0.3));\n",
       "      fill: #FFFFFF;\n",
       "    }\n",
       "  </style>\n",
       "\n",
       "      <script>\n",
       "        const buttonEl =\n",
       "          document.querySelector('#df-5c2d1a5e-8e82-4a95-bda0-361a73afe7b8 button.colab-df-convert');\n",
       "        buttonEl.style.display =\n",
       "          google.colab.kernel.accessAllowed ? 'block' : 'none';\n",
       "\n",
       "        async function convertToInteractive(key) {\n",
       "          const element = document.querySelector('#df-5c2d1a5e-8e82-4a95-bda0-361a73afe7b8');\n",
       "          const dataTable =\n",
       "            await google.colab.kernel.invokeFunction('convertToInteractive',\n",
       "                                                     [key], {});\n",
       "          if (!dataTable) return;\n",
       "\n",
       "          const docLinkHtml = 'Like what you see? Visit the ' +\n",
       "            '<a target=\"_blank\" href=https://colab.research.google.com/notebooks/data_table.ipynb>data table notebook</a>'\n",
       "            + ' to learn more about interactive tables.';\n",
       "          element.innerHTML = '';\n",
       "          dataTable['output_type'] = 'display_data';\n",
       "          await google.colab.output.renderOutput(dataTable, element);\n",
       "          const docLink = document.createElement('div');\n",
       "          docLink.innerHTML = docLinkHtml;\n",
       "          element.appendChild(docLink);\n",
       "        }\n",
       "      </script>\n",
       "    </div>\n",
       "  </div>\n",
       "  "
      ],
      "text/plain": [
       "                                   Variables        CV\n",
       "0                                 [MIN_DIST]  0.500000\n",
       "1                             [NEIGHBOR_AGE]  0.556030\n",
       "2                                     [temp]  0.520134\n",
       "3                                 [humidity]  0.525597\n",
       "4                   [MIN_DIST, NEIGHBOR_AGE]  0.556030\n",
       "5                           [MIN_DIST, temp]  0.520134\n",
       "6                       [MIN_DIST, humidity]  0.525597\n",
       "7                       [NEIGHBOR_AGE, temp]  0.562185\n",
       "8                   [NEIGHBOR_AGE, humidity]  0.534515\n",
       "9                           [temp, humidity]  0.520134\n",
       "10            [MIN_DIST, NEIGHBOR_AGE, temp]  0.562185\n",
       "11        [MIN_DIST, NEIGHBOR_AGE, humidity]  0.534515\n",
       "12                [MIN_DIST, temp, humidity]  0.520134\n",
       "13            [NEIGHBOR_AGE, temp, humidity]  0.498457\n",
       "14  [MIN_DIST, NEIGHBOR_AGE, temp, humidity]  0.498457"
      ]
     },
     "execution_count": 127,
     "metadata": {},
     "output_type": "execute_result"
    }
   ],
   "source": [
    "pd.DataFrame({'Variables': subsets, 'CV': results1})"
   ]
  },
  {
   "cell_type": "markdown",
   "metadata": {
    "id": "U6VXidvYRVq4"
   },
   "source": [
    "## How Many Neighbors Actually Matter?"
   ]
  },
  {
   "cell_type": "markdown",
   "metadata": {
    "id": "43OicZk_Pq-_"
   },
   "source": [
    "### K Nearest Neighbors - Uniform Interaction"
   ]
  },
  {
   "cell_type": "code",
   "execution_count": 128,
   "metadata": {
    "executionInfo": {
     "elapsed": 275,
     "status": "ok",
     "timestamp": 1670917409458,
     "user": {
      "displayName": "Henry Cerbone",
      "userId": "06775678993421421914"
     },
     "user_tz": 300
    },
    "id": "aC-IfGhzPu7z"
   },
   "outputs": [],
   "source": [
    "MAX_K = 10\n",
    "ks = np.arange(1, MAX_K + 1)\n",
    "results2 = np.zeros(len(ks))"
   ]
  },
  {
   "cell_type": "code",
   "execution_count": 129,
   "metadata": {
    "colab": {
     "base_uri": "https://localhost:8080/",
     "height": 49,
     "referenced_widgets": [
      "dadd80bcc59e49788c69088a389d5f2a",
      "7024d898dae546abbf9b50e1edfd68b9",
      "039c0a5914dc48c6a09fec45824c9e66",
      "ef3efd4fb0d44bd29d4b110240407693",
      "d4238dc5c77749db80dd93c671f00bb4",
      "d01c58d625f044d3ba113b07273444c2",
      "8a82a3013baa4a25a1b8fcd19142b9b8",
      "d964247b723447c6b5a536928337388a",
      "df195a2c39fd4c29b2455a8f7d73cc40",
      "0759c50038eb4036b905fa1f3bdef8fb",
      "d6b255021a61460db0af69f540db6275"
     ]
    },
    "executionInfo": {
     "elapsed": 209428,
     "status": "ok",
     "timestamp": 1670917621195,
     "user": {
      "displayName": "Henry Cerbone",
      "userId": "06775678993421421914"
     },
     "user_tz": 300
    },
    "id": "ps9ybHR6Py9M",
    "outputId": "3c1ad62c-3022-4efe-cd9e-bcf13bab69b9"
   },
   "outputs": [
    {
     "data": {
      "application/vnd.jupyter.widget-view+json": {
       "model_id": "dadd80bcc59e49788c69088a389d5f2a",
       "version_major": 2,
       "version_minor": 0
      },
      "text/plain": [
       "  0%|          | 0/10 [00:00<?, ?it/s]"
      ]
     },
     "metadata": {},
     "output_type": "display_data"
    }
   ],
   "source": [
    "for k in tqdm(ks):\n",
    "    \n",
    "    cnnu = colonies.copy()\n",
    "    cnnu['NEIGHBORS_MEAN_AGE'] = None\n",
    "    \n",
    "    for y in years:\n",
    "        temp = cnnu[cnnu['YEAR'] == y]\n",
    "        n_colonies = temp.shape[0]\n",
    "        kd = KDTree(temp[['LAT', 'LON']].values)\n",
    "\n",
    "        mean_age = []\n",
    "        for i in range(n_colonies):\n",
    "\n",
    "            nn = kd.query(temp[['LAT', 'LON']].values[i,:], k=k+1)[1]\n",
    "            nn = nn[1:]\n",
    "            mean_age.append(temp.iloc[nn]['AGE'].mean())\n",
    "\n",
    "        cnnu.loc[temp.index.values,'NEIGHBORS_MEAN_AGE'] = mean_age\n",
    "        \n",
    "    cnnu = cnnu.loc[cnnu['BORN']==1, ['ORIG_ID', 'YEAR', 'DIEFUTURE', 'NEIGHBORS_MEAN_AGE', 'temp']]\n",
    "    \n",
    "    X_train = cnnu.loc[cnnu['YEAR'].isin(years_train), ['NEIGHBORS_MEAN_AGE', 'temp']].values\n",
    "    y_train = cnnu.loc[cnnu['YEAR'].isin(years_train), 'DIEFUTURE'].values\n",
    "\n",
    "    hits = cross_val_score(lm, X_train, y_train, scoring='accuracy', cv=cv)\n",
    "    die_acc = (hits * y_train).sum() / y_train.sum()\n",
    "    live_acc = (hits * (1-y_train)).sum() / (1-y_train).sum()\n",
    "    results2[k-1] = (die_acc + live_acc)/2"
   ]
  },
  {
   "cell_type": "code",
   "execution_count": 130,
   "metadata": {
    "colab": {
     "base_uri": "https://localhost:8080/",
     "height": 313
    },
    "executionInfo": {
     "elapsed": 888,
     "status": "ok",
     "timestamp": 1670917744726,
     "user": {
      "displayName": "Henry Cerbone",
      "userId": "06775678993421421914"
     },
     "user_tz": 300
    },
    "id": "hqhwAYxyoN6Z",
    "outputId": "a1dea330-4997-4eec-a8ac-9d2075a65df1"
   },
   "outputs": [
    {
     "data": {
      "text/plain": [
       "Text(0.5, 1.0, 'Unweighted Leave-One-Out Balanced Accuracy vs K')"
      ]
     },
     "execution_count": 130,
     "metadata": {},
     "output_type": "execute_result"
    },
    {
     "data": {
      "image/png": "[encoded data removed]",
      "text/plain": [
       "<Figure size 432x288 with 1 Axes>"
      ]
     },
     "metadata": {
      "needs_background": "light"
     },
     "output_type": "display_data"
    }
   ],
   "source": [
    "plt.plot(ks, results2)\n",
    "plt.xlabel(\"K\")\n",
    "plt.ylabel(\"Leave-One-Out Balanced Accuracy\")\n",
    "plt.title(\"Unweighted Leave-One-Out Balanced Accuracy vs K\")"
   ]
  },
  {
   "cell_type": "code",
   "execution_count": 131,
   "metadata": {
    "colab": {
     "base_uri": "https://localhost:8080/"
    },
    "executionInfo": {
     "elapsed": 384,
     "status": "ok",
     "timestamp": 1670917806336,
     "user": {
      "displayName": "Henry Cerbone",
      "userId": "06775678993421421914"
     },
     "user_tz": 300
    },
    "id": "kQvKMvTJ3dpZ",
    "outputId": "7a1fa6fe-b910-45e4-abcc-7de588b55b5d"
   },
   "outputs": [
    {
     "data": {
      "text/plain": [
       "0.5621846579040396"
      ]
     },
     "execution_count": 131,
     "metadata": {},
     "output_type": "execute_result"
    }
   ],
   "source": [
    "max(results2)"
   ]
  },
  {
   "cell_type": "markdown",
   "metadata": {
    "id": "zcIQ3pmAeSsB"
   },
   "source": [
    "### K Nearest Neighbors - Weighted Interaction"
   ]
  },
  {
   "cell_type": "code",
   "execution_count": 132,
   "metadata": {
    "executionInfo": {
     "elapsed": 271,
     "status": "ok",
     "timestamp": 1670917808649,
     "user": {
      "displayName": "Henry Cerbone",
      "userId": "06775678993421421914"
     },
     "user_tz": 300
    },
    "id": "KZFC98LmeXZD"
   },
   "outputs": [],
   "source": [
    "results3 = np.zeros(len(ks))"
   ]
  },
  {
   "cell_type": "code",
   "execution_count": 133,
   "metadata": {
    "colab": {
     "base_uri": "https://localhost:8080/",
     "height": 49,
     "referenced_widgets": [
      "875ff3f196e447c9b27d2b34be4fa027",
      "1639080abf7e49928e82398d676d170a",
      "f2a4712654bc4c54ac1fb9d23e34d73f",
      "f4d62cf9c938476cbe472d99e46e1e93",
      "b767ffa5f32e4e9385d81c9214ced582",
      "b1cabb4965f84c21b69f2ad4df73a112",
      "f070a3f698204cb2ab896abe7638583f",
      "28816e9f41894447aa1e8119ab68e010",
      "7b4b95f22361460f9973f96a97d11737",
      "982ebf4caf3e4903bcdc91a0483d12f5",
      "d7b0b7a4611045d787cf58d10558131b"
     ]
    },
    "executionInfo": {
     "elapsed": 249553,
     "status": "ok",
     "timestamp": 1670918059422,
     "user": {
      "displayName": "Henry Cerbone",
      "userId": "06775678993421421914"
     },
     "user_tz": 300
    },
    "id": "83B4pfXsedI8",
    "outputId": "e979f444-81d7-4005-ec73-e3276fac18a6"
   },
   "outputs": [
    {
     "data": {
      "application/vnd.jupyter.widget-view+json": {
       "model_id": "875ff3f196e447c9b27d2b34be4fa027",
       "version_major": 2,
       "version_minor": 0
      },
      "text/plain": [
       "  0%|          | 0/10 [00:00<?, ?it/s]"
      ]
     },
     "metadata": {},
     "output_type": "display_data"
    }
   ],
   "source": [
    "for k in tqdm(ks):\n",
    "    \n",
    "    cnnu = colonies.copy()\n",
    "    cnnu['NEIGHBORS_MEAN_AGE'] = None\n",
    "    \n",
    "    for y in years:\n",
    "        temp = cnnu[cnnu['YEAR'] == y]\n",
    "        n_colonies = temp.shape[0]\n",
    "        kd = KDTree(temp[['LAT', 'LON']].values)\n",
    "\n",
    "        mean_age = []\n",
    "        for i in range(n_colonies):\n",
    "            nn = kd.query(temp[['LAT', 'LON']].values[i,:], k=k+1)[1]\n",
    "            nn = nn[1:]\n",
    "            dists = kd.query(temp[['LAT', 'LON']].values[i,:], k=k+1)[0]\n",
    "            dists = dists[1:]\n",
    "            weights = (1/dists) / sum(1/dists)\n",
    "            mean_age.append(sum(temp.iloc[nn]['AGE'].values * weights))\n",
    "\n",
    "        cnnu.loc[temp.index.values,'NEIGHBORS_MEAN_AGE'] = mean_age\n",
    "        \n",
    "    cnnu = cnnu.loc[cnnu['BORN']==1, ['ORIG_ID', 'YEAR', 'DIEFUTURE', 'NEIGHBORS_MEAN_AGE', 'temp']]\n",
    "    \n",
    "    X_train = cnnu.loc[cnnu['YEAR'].isin(years_train), ['NEIGHBORS_MEAN_AGE', 'temp']].values\n",
    "    y_train = cnnu.loc[cnnu['YEAR'].isin(years_train), 'DIEFUTURE'].values\n",
    "\n",
    "    hits = cross_val_score(lm, X_train, y_train, scoring='accuracy', cv=cv)\n",
    "    die_acc = (hits * y_train).sum() / y_train.sum()\n",
    "    live_acc = (hits * (1-y_train)).sum() / (1-y_train).sum()\n",
    "    results3[k-1] = (die_acc + live_acc)/2"
   ]
  },
  {
   "cell_type": "code",
   "execution_count": 134,
   "metadata": {
    "colab": {
     "base_uri": "https://localhost:8080/",
     "height": 313
    },
    "executionInfo": {
     "elapsed": 533,
     "status": "ok",
     "timestamp": 1670918127065,
     "user": {
      "displayName": "Henry Cerbone",
      "userId": "06775678993421421914"
     },
     "user_tz": 300
    },
    "id": "xqta86YtekmG",
    "outputId": "2858f01c-c6cb-462a-fc07-80a0c8228ca9"
   },
   "outputs": [
    {
     "data": {
      "text/plain": [
       "Text(0.5, 1.0, 'Weighted Leave-One-Out Balanced Accuracy vs K')"
      ]
     },
     "execution_count": 134,
     "metadata": {},
     "output_type": "execute_result"
    },
    {
     "data": {
      "image/png": "[encoded data removed]",
      "text/plain": [
       "<Figure size 432x288 with 1 Axes>"
      ]
     },
     "metadata": {
      "needs_background": "light"
     },
     "output_type": "display_data"
    }
   ],
   "source": [
    "plt.plot(ks, results3)\n",
    "plt.xlabel(\"K\")\n",
    "plt.ylabel(\"Leave-One-Out Balanced Accuracy\")\n",
    "plt.title(\"Weighted Leave-One-Out Balanced Accuracy vs K\")"
   ]
  },
  {
   "cell_type": "code",
   "execution_count": null,
   "metadata": {
    "executionInfo": {
     "elapsed": 8,
     "status": "aborted",
     "timestamp": 1670917094348,
     "user": {
      "displayName": "Henry Cerbone",
      "userId": "06775678993421421914"
     },
     "user_tz": 300
    },
    "id": "27zMuFnoelXf"
   },
   "outputs": [],
   "source": [
    "max(results3)"
   ]
  },
  {
   "cell_type": "markdown",
   "metadata": {
    "id": "mYQ2zXUOVmmn"
   },
   "source": [
    "## An Alternative Definition of Neighborhoods: Voronoi Neighbors"
   ]
  },
  {
   "cell_type": "markdown",
   "metadata": {
    "id": "KuxomxfpTF0e"
   },
   "source": [
    "### Voronoi Neighbors - Helper Function"
   ]
  },
  {
   "cell_type": "code",
   "execution_count": null,
   "metadata": {
    "id": "eOh4lYmqTI9d"
   },
   "outputs": [],
   "source": [
    "# based on https://gist.github.com/Sklavit/e05f0b61cb12ac781c93442fbea4fb55\n",
    "def voronoi_finite_polygons_2d(vor):\n",
    "    \"\"\"\n",
    "    Reconstruct infinite voronoi regions in a 2D diagram to finite\n",
    "    regions.\n",
    "    Parameters\n",
    "    ----------\n",
    "    vor : Voronoi\n",
    "        Input diagram\n",
    "    Returns\n",
    "    -------\n",
    "    regions : list of tuples\n",
    "        Indices of vertices in each revised Voronoi regions.\n",
    "    vertices : list of tuples\n",
    "        Coordinates for revised Voronoi vertices. Same as coordinates\n",
    "        of input vertices, with 'points at infinity' appended to the\n",
    "        end.\n",
    "    \"\"\"\n",
    "\n",
    "    all_points = np.concatenate((vor.points, vor.vertices), axis=0)\n",
    "    x_min, y_min = tuple(all_points.min(0))\n",
    "    x_max, y_max = tuple(all_points.max(0))\n",
    "    \n",
    "    if vor.points.shape[1] != 2:\n",
    "        raise ValueError(\"Requires 2D input\")\n",
    "\n",
    "    new_regions = []\n",
    "    new_vertices = vor.vertices.tolist()\n",
    "\n",
    "    # Construct a map containing all ridges for a given point\n",
    "    all_ridges = {}\n",
    "    for (p1, p2), (v1, v2) in zip(vor.ridge_points, vor.ridge_vertices):\n",
    "        all_ridges.setdefault(p1, []).append((p2, v1, v2))\n",
    "        all_ridges.setdefault(p2, []).append((p1, v1, v2))\n",
    "\n",
    "    # Reconstruct infinite regions\n",
    "    for p1, region in enumerate(vor.point_region):\n",
    "        vertices = vor.regions[region]\n",
    "\n",
    "        if all(v >= 0 for v in vertices):\n",
    "            continue\n",
    "\n",
    "        # reconstruct a non-finite region\n",
    "        ridges = all_ridges[p1]\n",
    "        new_ridges = []\n",
    "\n",
    "        for p2, v1, v2 in ridges:\n",
    "            if v2 < 0:\n",
    "                v1, v2 = v2, v1\n",
    "            if v1 >= 0:\n",
    "                # finite ridge: already in the region\n",
    "                new_ridges.append((p2, v1, v2))\n",
    "                continue\n",
    "\n",
    "            # Compute the missing endpoint of an infinite ridge\n",
    "\n",
    "            t = vor.points[p2] - vor.points[p1] # tangent\n",
    "            slope = -t[0] / t[1]\n",
    "            anchor = vor.vertices[v2]\n",
    "\n",
    "            bottom = np.array(((y_min - anchor[1] + slope * anchor[0]) / slope, y_min))\n",
    "            top = np.array(((y_max - anchor[1] + slope * anchor[0]) / slope, y_max))\n",
    "            left = np.array((x_min, slope * (x_min - anchor[0]) + anchor[1]))\n",
    "            right = np.array((x_min, slope * (x_min - anchor[0]) + anchor[1]))\n",
    "            wall_intercepts = np.stack((bottom, top, left, right), axis=0)\n",
    "            \n",
    "            far_point = wall_intercepts[np.argmin(np.linalg.norm(anchor-wall_intercepts, axis=1))]\n",
    "\n",
    "            new_ridges.append((p2, v2, len(new_vertices)))\n",
    "            new_vertices.append(far_point.tolist())\n",
    "\n",
    "        all_ridges.update({p1: new_ridges})\n",
    "\n",
    "    return np.asarray(new_vertices), all_ridges"
   ]
  },
  {
   "cell_type": "markdown",
   "metadata": {
    "id": "nuaH8eNZUhIe"
   },
   "source": [
    "### Voronoi Neighbors - Example"
   ]
  },
  {
   "cell_type": "code",
   "execution_count": null,
   "metadata": {
    "id": "-hMqGibj6-3k"
   },
   "outputs": [],
   "source": [
    " years[5]"
   ]
  },
  {
   "cell_type": "code",
   "execution_count": null,
   "metadata": {
    "id": "nnMTRdT3Ui-o"
   },
   "outputs": [],
   "source": [
    "y = years[5]\n",
    "temp = colonies[colonies['YEAR'] == y].copy()\n",
    "points = temp[['LAT', 'LON']].values\n",
    "vor = Voronoi(points)\n",
    "fig = voronoi_plot_2d(vor, show_vertices=False, line_colors='orange', line_width=1, line_alpha=0.6, point_size=3)\n",
    "plt.xlabel(\"Longitude\")\n",
    "plt.ylabel(\"Latitude\")\n",
    "plt.show()"
   ]
  },
  {
   "cell_type": "markdown",
   "metadata": {
    "id": "adb_P0ZXQpm-"
   },
   "source": [
    "### Voronoi Neighbors - Uniform Interaction\n",
    "\n",
    "\n",
    "\n"
   ]
  },
  {
   "cell_type": "code",
   "execution_count": null,
   "metadata": {
    "id": "AXie-xBrRY8F"
   },
   "outputs": [],
   "source": [
    "cnnu = colonies.copy()\n",
    "cnnu['NEIGHBORS_MEAN_AGE'] = None\n",
    "cnnu['N_NEIGHBORS'] = None\n",
    "\n",
    "for y in years:\n",
    "    temp = cnnu[cnnu['YEAR'] == y]\n",
    "    n_colonies = temp.shape[0]\n",
    "    vor = Voronoi(temp[['LAT', 'LON']].values)\n",
    "    _, all_ridges = voronoi_finite_polygons_2d(vor)\n",
    "\n",
    "    mean_age = []\n",
    "    nn = []\n",
    "\n",
    "    for i in range(n_colonies):\n",
    "      ridges = all_ridges[i]\n",
    "      neighbors = []\n",
    "      for (p2, v1, v2) in ridges:\n",
    "        neighbors.append(p2)\n",
    "\n",
    "      mean_age.append(temp.iloc[neighbors]['AGE'].mean())\n",
    "      nn.append(len(neighbors))\n",
    "\n",
    "    cnnu.loc[temp.index.values,'NEIGHBORS_MEAN_AGE'] = mean_age\n",
    "    cnnu.loc[temp.index.values,'N_NEIGHBORS'] = nn\n",
    "\n",
    "print('Mean num neighbors: ' + str(cnnu['N_NEIGHBORS'].mean()))\n",
    "\n",
    "cnnu = cnnu.loc[cnnu['BORN']==1, ['ORIG_ID', 'YEAR', 'DIEFUTURE', 'NEIGHBORS_MEAN_AGE', 'temp']]\n",
    "\n",
    "X_train = cnnu.loc[cnnu['YEAR'].isin(years_train), ['NEIGHBORS_MEAN_AGE', 'temp']].values\n",
    "y_train = cnnu.loc[cnnu['YEAR'].isin(years_train), 'DIEFUTURE'].values\n",
    "\n",
    "hits = cross_val_score(lm, X_train, y_train, scoring='accuracy', cv=cv)\n",
    "die_acc = (hits * y_train).sum() / y_train.sum()\n",
    "live_acc = (hits * (1-y_train)).sum() / (1-y_train).sum()\n",
    "print('Leave-One-Out Balanced Accuracy: ' + str((die_acc + live_acc)/2))"
   ]
  },
  {
   "cell_type": "markdown",
   "metadata": {
    "id": "5WlP2TpGR8wA"
   },
   "source": [
    "\n",
    "### Voronoi Neighbors - Length-Weighted Interaction"
   ]
  },
  {
   "cell_type": "code",
   "execution_count": null,
   "metadata": {
    "id": "N9sw2A_lSLTT"
   },
   "outputs": [],
   "source": [
    "cnnu = colonies.copy()\n",
    "cnnu['NEIGHBORS_MEAN_AGE'] = None\n",
    "\n",
    "for y in years:\n",
    "    temp = cnnu[cnnu['YEAR'] == y]\n",
    "    n_colonies = temp.shape[0]\n",
    "    vor = Voronoi(temp[['LAT', 'LON']].values)\n",
    "\n",
    "    vertices, all_ridges = voronoi_finite_polygons_2d(vor)\n",
    "    mean_age = []\n",
    "\n",
    "    for i in range(n_colonies):\n",
    "      ridges = all_ridges[i]\n",
    "      neighbors = []\n",
    "      weights = []\n",
    "      for (p2, v1, v2) in ridges:\n",
    "        neighbors.append(p2)\n",
    "        weights.append(np.linalg.norm(vertices[v1]-vertices[v2]))\n",
    "      weights = weights / sum(weights)\n",
    "      mean_age.append(sum(temp.iloc[neighbors]['AGE'].values * weights))\n",
    "\n",
    "    cnnu.loc[temp.index.values,'NEIGHBORS_MEAN_AGE'] = mean_age\n",
    "\n",
    "cnnu = cnnu.loc[cnnu['BORN']==1, ['ORIG_ID', 'YEAR', 'DIEFUTURE', 'NEIGHBORS_MEAN_AGE', 'temp']]\n",
    "\n",
    "X_train = cnnu.loc[cnnu['YEAR'].isin(years_train), ['NEIGHBORS_MEAN_AGE', 'temp']].values\n",
    "y_train = cnnu.loc[cnnu['YEAR'].isin(years_train), 'DIEFUTURE'].values\n",
    "\n",
    "hits = cross_val_score(lm, X_train, y_train, scoring='accuracy', cv=cv)\n",
    "die_acc = (hits * y_train).sum() / y_train.sum()\n",
    "live_acc = (hits * (1-y_train)).sum() / (1-y_train).sum()\n",
    "print('Leave-One-Out Balanced Accuracy: ' + str((die_acc + live_acc)/2))"
   ]
  },
  {
   "cell_type": "markdown",
   "metadata": {
    "id": "N9W5gyglkmyR"
   },
   "source": [
    "### Ridge Ranking vs Nearest Neighbor"
   ]
  },
  {
   "cell_type": "code",
   "execution_count": null,
   "metadata": {
    "id": "wWV2r6-cmTi9"
   },
   "outputs": [],
   "source": [
    "cnnu = colonies.copy()\n",
    "\n",
    "for y in years:\n",
    "\n",
    "    temp = cnnu[cnnu['YEAR'] == y]\n",
    "    n_colonies = temp.shape[0]\n",
    "\n",
    "    vor = Voronoi(temp[['LAT', 'LON']].values)\n",
    "    kd = KDTree(temp[['LAT', 'LON']].values)\n",
    "\n",
    "    vertices, all_ridges = voronoi_finite_polygons_2d(vor)\n",
    "\n",
    "    ranks = []\n",
    "    top = []\n",
    "\n",
    "    for i in range(n_colonies):\n",
    "\n",
    "      ridges = all_ridges[i]\n",
    "      neighbors = []\n",
    "      weights = []\n",
    "\n",
    "      for (p2, v1, v2) in ridges:\n",
    "        neighbors.append(p2)\n",
    "        weights.append(np.linalg.norm(vertices[v1]-vertices[v2]))\n",
    "\n",
    "      weights = -1 * np.array(weights)\n",
    "      \n",
    "      dists = np.linalg.norm(vor.points[[i]] - vor.points[neighbors], axis=1)\n",
    "\n",
    "      order = weights.argsort()\n",
    "      rank = order.argsort()\n",
    "\n",
    "      ranks.append(rank[dists.argmin()] / len(rank))\n",
    "      top.append(1 if rank[dists.argmin()] == 0 else 0)"
   ]
  },
  {
   "cell_type": "code",
   "execution_count": null,
   "metadata": {
    "id": "Ql0tyoqymu00"
   },
   "outputs": [],
   "source": [
    "# mean rank percentile\n",
    "1-np.array(ranks).mean()"
   ]
  },
  {
   "cell_type": "code",
   "execution_count": null,
   "metadata": {
    "id": "CUmMNzWbtA6A"
   },
   "outputs": [],
   "source": [
    "# percentage of time where top ridge is nearest neighbor\n",
    "sum(top) / len(top)"
   ]
  },
  {
   "cell_type": "markdown",
   "metadata": {
    "id": "YtdEScfHeS2C"
   },
   "source": [
    "## Estimating Aggression"
   ]
  },
  {
   "cell_type": "code",
   "execution_count": null,
   "metadata": {
    "id": "ptquS0V5eY6O"
   },
   "outputs": [],
   "source": [
    "for y in years:\n",
    "  temp = colonies[colonies['YEAR'] == y]\n",
    "  n_colonies = temp.shape[0]\n",
    "  kd = KDTree(temp[['LAT', 'LON']].values)\n",
    "\n",
    "  nns = []\n",
    "\n",
    "  for i in range(n_colonies):\n",
    "\n",
    "      nn = kd.query(temp[['LAT', 'LON']].values[i,:], k=2)[1]\n",
    "      nns.append(nn[1])\n",
    "\n",
    "  nns = np.array(nns)\n",
    "\n",
    "  targets = []\n",
    "  kills = []\n",
    "\n",
    "  for i in range(n_colonies):\n",
    "\n",
    "    t = np.argwhere(nns == i)\n",
    "    targets.append(t.shape[0])\n",
    "    kills.append(temp['DIEFUTURE'].values[t].sum())\n",
    "\n",
    "  colonies.loc[temp.index.values,'TARGETS'] = targets\n",
    "  colonies.loc[temp.index.values,'KILLS'] = kills"
   ]
  },
  {
   "cell_type": "code",
   "execution_count": null,
   "metadata": {
    "id": "sohJZVM_GEQc"
   },
   "outputs": [],
   "source": [
    "colonies[['TARGETS', 'KILLS']] = colonies.groupby('ORIG_ID')[['TARGETS', 'KILLS']].cumsum()"
   ]
  },
  {
   "cell_type": "code",
   "execution_count": null,
   "metadata": {
    "id": "PDJ9TtP4G5Jf"
   },
   "outputs": [],
   "source": [
    "colonies['AGGRESSION'] = colonies['KILLS'] / colonies['TARGETS']"
   ]
  },
  {
   "cell_type": "code",
   "execution_count": null,
   "metadata": {
    "id": "a7OmDgClM_XT"
   },
   "outputs": [],
   "source": [
    "for y in years:\n",
    "  temp = colonies[colonies['YEAR'] == y]\n",
    "  n_colonies = temp.shape[0]\n",
    "  kd = KDTree(temp[['LAT', 'LON']].values)\n",
    "\n",
    "  nkills = []\n",
    "\n",
    "  for i in range(n_colonies):\n",
    "\n",
    "      nn = kd.query(temp[['LAT', 'LON']].values[i,:], k=2)[1]\n",
    "      nkills.append(temp['KILLS'].values[nn[1]])\n",
    "\n",
    "  colonies.loc[temp.index.values,'NEIGHBOR_KILLS'] = nkills"
   ]
  },
  {
   "cell_type": "code",
   "execution_count": null,
   "metadata": {
    "colab": {
     "base_uri": "https://localhost:8080/"
    },
    "executionInfo": {
     "elapsed": 6,
     "status": "ok",
     "timestamp": 1670915097051,
     "user": {
      "displayName": "Matt Smith",
      "userId": "09157084289317930379"
     },
     "user_tz": 300
    },
    "id": "A30Esp4fTEOJ",
    "outputId": "2ad1b71a-2457-4f0a-a18a-b68886d2738d"
   },
   "outputs": [
    {
     "data": {
      "text/plain": [
       "7.0"
      ]
     },
     "execution_count": 87,
     "metadata": {},
     "output_type": "execute_result"
    }
   ],
   "source": [
    "max(colonies['NEIGHBOR_KILLS'])"
   ]
  },
  {
   "cell_type": "code",
   "execution_count": null,
   "metadata": {
    "colab": {
     "base_uri": "https://localhost:8080/"
    },
    "executionInfo": {
     "elapsed": 10237,
     "status": "ok",
     "timestamp": 1670915225667,
     "user": {
      "displayName": "Matt Smith",
      "userId": "09157084289317930379"
     },
     "user_tz": 300
    },
    "id": "GCg1NT-FTkZI",
    "outputId": "fc6bc040-9e32-4b71-92a8-78f107c9f5e4"
   },
   "outputs": [
    {
     "data": {
      "text/plain": [
       "0.723366648455828"
      ]
     },
     "execution_count": 88,
     "metadata": {},
     "output_type": "execute_result"
    }
   ],
   "source": [
    "X_train = colonies.loc[colonies['YEAR'].isin(years_train) & (colonies['BORN'] == 1), ['NEIGHBOR_AGE', 'NEIGHBOR_KILLS', 'temp']].values\n",
    "y_train = colonies.loc[colonies['YEAR'].isin(years_train) & (colonies['BORN'] == 1), 'DIEFUTURE'].values\n",
    "\n",
    "hits = cross_val_score(lm, X_train, y_train, scoring='accuracy', cv=cv)\n",
    "die_acc = (hits * y_train).sum() / y_train.sum()\n",
    "live_acc = (hits * (1-y_train)).sum() / (1-y_train).sum()\n",
    "\n",
    "(die_acc + live_acc)/2"
   ]
  },
  {
   "cell_type": "markdown",
   "metadata": {
    "id": "boIDVkvHuxNZ"
   },
   "source": [
    "## Validation on Test Set"
   ]
  },
  {
   "cell_type": "code",
   "execution_count": null,
   "metadata": {
    "id": "U-dmjlCKu06m"
   },
   "outputs": [],
   "source": [
    "fitted = lm.fit(X_train, y_train)"
   ]
  },
  {
   "cell_type": "code",
   "execution_count": null,
   "metadata": {
    "id": "gQtlTqTAVDBT"
   },
   "outputs": [],
   "source": [
    "X_test = colonies.loc[colonies['YEAR'].isin(years_test) & (colonies['BORN'] == 1), ['NEIGHBOR_AGE', 'NEIGHBOR_KILLS', 'temp']].values\n",
    "y_test = colonies.loc[colonies['YEAR'].isin(years_test) & (colonies['BORN'] == 1), 'DIEFUTURE'].values"
   ]
  },
  {
   "cell_type": "code",
   "execution_count": null,
   "metadata": {
    "id": "b5h7a6lUVR6O"
   },
   "outputs": [],
   "source": [
    "y_pred = fitted.predict(X_test)"
   ]
  },
  {
   "cell_type": "code",
   "execution_count": null,
   "metadata": {
    "colab": {
     "base_uri": "https://localhost:8080/"
    },
    "executionInfo": {
     "elapsed": 112,
     "status": "ok",
     "timestamp": 1670915736427,
     "user": {
      "displayName": "Matt Smith",
      "userId": "09157084289317930379"
     },
     "user_tz": 300
    },
    "id": "2OKRzJbDVrF9",
    "outputId": "b1ab2208-eb25-4e84-b07b-c431eccfb802"
   },
   "outputs": [
    {
     "data": {
      "text/plain": [
       "array([1, 0, 0, 0, 0, 0, 1, 0, 0, 0, 0, 0, 0, 0, 0, 0, 0, 0, 0, 0, 0, 1,\n",
       "       0, 1, 1, 1, 0, 0, 0, 1, 0, 0, 0, 0, 0, 0, 0, 0, 0, 0, 0, 1, 1, 0,\n",
       "       0, 0, 0, 0, 0, 0, 0, 0, 0, 0, 0, 0, 0, 0, 1, 0, 0, 0, 0, 0, 0, 0,\n",
       "       0, 0, 0, 0, 0, 0, 0, 1, 0, 0, 0, 0, 0, 0, 0, 0, 1, 1, 0, 0, 0, 0,\n",
       "       0, 0, 0, 0, 0, 0, 0, 0, 0, 0, 1, 0, 0, 0, 0, 0, 0, 0, 0, 0, 0, 0,\n",
       "       0, 0, 0, 0, 1])"
      ]
     },
     "execution_count": 100,
     "metadata": {},
     "output_type": "execute_result"
    }
   ],
   "source": [
    "y_pred"
   ]
  },
  {
   "cell_type": "code",
   "execution_count": null,
   "metadata": {
    "colab": {
     "base_uri": "https://localhost:8080/"
    },
    "executionInfo": {
     "elapsed": 187,
     "status": "ok",
     "timestamp": 1670915730330,
     "user": {
      "displayName": "Matt Smith",
      "userId": "09157084289317930379"
     },
     "user_tz": 300
    },
    "id": "7u7_-asBVqOu",
    "outputId": "c842f050-760e-470b-f4e2-e0a78b8b720f"
   },
   "outputs": [
    {
     "data": {
      "text/plain": [
       "array([0, 0, 0, 0, 0, 0, 0, 0, 0, 0, 0, 0, 0, 0, 0, 0, 0, 0, 0, 0, 0, 0,\n",
       "       0, 0, 0, 0, 0, 0, 0, 0, 0, 0, 0, 0, 0, 0, 0, 0, 0, 0, 0, 0, 0, 0,\n",
       "       0, 0, 0, 0, 0, 0, 0, 0, 0, 0, 0, 0, 0, 0, 0, 0, 0, 0, 0, 0, 0, 0,\n",
       "       0, 0, 0, 0, 0, 0, 0, 0, 0, 0, 0, 0, 0, 0, 0, 0, 0, 0, 0, 0, 0, 0,\n",
       "       0, 0, 0, 0, 0, 0, 0, 0, 0, 0, 0, 0, 0, 0, 0, 0, 0, 0, 0, 0, 0, 0,\n",
       "       0, 0, 0, 0, 0])"
      ]
     },
     "execution_count": 99,
     "metadata": {},
     "output_type": "execute_result"
    }
   ],
   "source": [
    "y_test"
   ]
  },
  {
   "cell_type": "code",
   "execution_count": null,
   "metadata": {
    "colab": {
     "base_uri": "https://localhost:8080/"
    },
    "executionInfo": {
     "elapsed": 97,
     "status": "ok",
     "timestamp": 1670915775364,
     "user": {
      "displayName": "Matt Smith",
      "userId": "09157084289317930379"
     },
     "user_tz": 300
    },
    "id": "VHyOtlBkVaUG",
    "outputId": "a641b65a-5346-4ad4-864b-ac004f1d2ed1"
   },
   "outputs": [
    {
     "name": "stderr",
     "output_type": "stream",
     "text": [
      "/usr/local/lib/python3.8/dist-packages/sklearn/metrics/_classification.py:1987: UserWarning: y_pred contains classes not in y_true\n",
      "  warnings.warn(\"y_pred contains classes not in y_true\")\n"
     ]
    },
    {
     "data": {
      "text/plain": [
       "0.8695652173913043"
      ]
     },
     "execution_count": 102,
     "metadata": {},
     "output_type": "execute_result"
    }
   ],
   "source": [
    "balanced_accuracy_score(y_test, y_pred)"
   ]
  }
 ],
 "metadata": {
  "colab": {
   "collapsed_sections": [
    "tXL7pX6oPP7v",
    "LAoRBX0IPWiN",
    "xoHJ48Zy3C3n",
    "mfan5Ze43K3x",
    "ZPia6Vqp3Rrr",
    "wzAue6Gj_ntf",
    "zF4lGOMgPdUW",
    "HNypt1KoCl9J",
    "I6gfJ5YHCoza",
    "X6CqflZ4CrjU",
    "OvR9iTKesIR3",
    "aXH1p7tAyYKy",
    "FxauevrCRSf1",
    "U6VXidvYRVq4",
    "zcIQ3pmAeSsB",
    "mYQ2zXUOVmmn",
    "KuxomxfpTF0e",
    "nuaH8eNZUhIe",
    "N9W5gyglkmyR",
    "boIDVkvHuxNZ"
   ],
   "provenance": []
  },
  "kernelspec": {
   "display_name": "Python 3",
   "language": "python",
   "name": "python3"
  },
  "language_info": {
   "codemirror_mode": {
    "name": "ipython",
    "version": 3
   },
   "file_extension": ".py",
   "mimetype": "text/x-python",
   "name": "python",
   "nbconvert_exporter": "python",
   "pygments_lexer": "ipython3",
   "version": "3.7.6"
  },
  "widgets": {
   "application/vnd.jupyter.widget-state+json": {
    "027398c3e28d4133aa510e9b0fc7abd7": {
     "model_module": "@jupyter-widgets/controls",
     "model_module_version": "1.5.0",
     "model_name": "HBoxModel",
     "state": {
      "_dom_classes": [],
      "_model_module": "@jupyter-widgets/controls",
      "_model_module_version": "1.5.0",
      "_model_name": "HBoxModel",
      "_view_count": null,
      "_view_module": "@jupyter-widgets/controls",
      "_view_module_version": "1.5.0",
      "_view_name": "HBoxView",
      "box_style": "",
      "children": [
       "IPY_MODEL_b87d6f38b99240b5aedba8f580a5961d",
       "IPY_MODEL_0616e20a5cb24650b48bbaf49a86fac5",
       "IPY_MODEL_601c5f429b90401f98550bf85f3a2ddb"
      ],
      "layout": "IPY_MODEL_37d33ca480b64ca1bdd7190b5e2983f8"
     }
    },
    "039c0a5914dc48c6a09fec45824c9e66": {
     "model_module": "@jupyter-widgets/controls",
     "model_module_version": "1.5.0",
     "model_name": "FloatProgressModel",
     "state": {
      "_dom_classes": [],
      "_model_module": "@jupyter-widgets/controls",
      "_model_module_version": "1.5.0",
      "_model_name": "FloatProgressModel",
      "_view_count": null,
      "_view_module": "@jupyter-widgets/controls",
      "_view_module_version": "1.5.0",
      "_view_name": "ProgressView",
      "bar_style": "success",
      "description": "",
      "description_tooltip": null,
      "layout": "IPY_MODEL_d964247b723447c6b5a536928337388a",
      "max": 10,
      "min": 0,
      "orientation": "horizontal",
      "style": "IPY_MODEL_df195a2c39fd4c29b2455a8f7d73cc40",
      "value": 10
     }
    },
    "0616e20a5cb24650b48bbaf49a86fac5": {
     "model_module": "@jupyter-widgets/controls",
     "model_module_version": "1.5.0",
     "model_name": "FloatProgressModel",
     "state": {
      "_dom_classes": [],
      "_model_module": "@jupyter-widgets/controls",
      "_model_module_version": "1.5.0",
      "_model_name": "FloatProgressModel",
      "_view_count": null,
      "_view_module": "@jupyter-widgets/controls",
      "_view_module_version": "1.5.0",
      "_view_name": "ProgressView",
      "bar_style": "success",
      "description": "",
      "description_tooltip": null,
      "layout": "IPY_MODEL_ed51e58e630d49478d3648d61ec80fa2",
      "max": 15,
      "min": 0,
      "orientation": "horizontal",
      "style": "IPY_MODEL_ed29d87836b44ca4b975774835e164f7",
      "value": 15
     }
    },
    "0759c50038eb4036b905fa1f3bdef8fb": {
     "model_module": "@jupyter-widgets/base",
     "model_module_version": "1.2.0",
     "model_name": "LayoutModel",
     "state": {
      "_model_module": "@jupyter-widgets/base",
      "_model_module_version": "1.2.0",
      "_model_name": "LayoutModel",
      "_view_count": null,
      "_view_module": "@jupyter-widgets/base",
      "_view_module_version": "1.2.0",
      "_view_name": "LayoutView",
      "align_content": null,
      "align_items": null,
      "align_self": null,
      "border": null,
      "bottom": null,
      "display": null,
      "flex": null,
      "flex_flow": null,
      "grid_area": null,
      "grid_auto_columns": null,
      "grid_auto_flow": null,
      "grid_auto_rows": null,
      "grid_column": null,
      "grid_gap": null,
      "grid_row": null,
      "grid_template_areas": null,
      "grid_template_columns": null,
      "grid_template_rows": null,
      "height": null,
      "justify_content": null,
      "justify_items": null,
      "left": null,
      "margin": null,
      "max_height": null,
      "max_width": null,
      "min_height": null,
      "min_width": null,
      "object_fit": null,
      "object_position": null,
      "order": null,
      "overflow": null,
      "overflow_x": null,
      "overflow_y": null,
      "padding": null,
      "right": null,
      "top": null,
      "visibility": null,
      "width": null
     }
    },
    "1639080abf7e49928e82398d676d170a": {
     "model_module": "@jupyter-widgets/controls",
     "model_module_version": "1.5.0",
     "model_name": "HTMLModel",
     "state": {
      "_dom_classes": [],
      "_model_module": "@jupyter-widgets/controls",
      "_model_module_version": "1.5.0",
      "_model_name": "HTMLModel",
      "_view_count": null,
      "_view_module": "@jupyter-widgets/controls",
      "_view_module_version": "1.5.0",
      "_view_name": "HTMLView",
      "description": "",
      "description_tooltip": null,
      "layout": "IPY_MODEL_b1cabb4965f84c21b69f2ad4df73a112",
      "placeholder": "​",
      "style": "IPY_MODEL_f070a3f698204cb2ab896abe7638583f",
      "value": "100%"
     }
    },
    "28816e9f41894447aa1e8119ab68e010": {
     "model_module": "@jupyter-widgets/base",
     "model_module_version": "1.2.0",
     "model_name": "LayoutModel",
     "state": {
      "_model_module": "@jupyter-widgets/base",
      "_model_module_version": "1.2.0",
      "_model_name": "LayoutModel",
      "_view_count": null,
      "_view_module": "@jupyter-widgets/base",
      "_view_module_version": "1.2.0",
      "_view_name": "LayoutView",
      "align_content": null,
      "align_items": null,
      "align_self": null,
      "border": null,
      "bottom": null,
      "display": null,
      "flex": null,
      "flex_flow": null,
      "grid_area": null,
      "grid_auto_columns": null,
      "grid_auto_flow": null,
      "grid_auto_rows": null,
      "grid_column": null,
      "grid_gap": null,
      "grid_row": null,
      "grid_template_areas": null,
      "grid_template_columns": null,
      "grid_template_rows": null,
      "height": null,
      "justify_content": null,
      "justify_items": null,
      "left": null,
      "margin": null,
      "max_height": null,
      "max_width": null,
      "min_height": null,
      "min_width": null,
      "object_fit": null,
      "object_position": null,
      "order": null,
      "overflow": null,
      "overflow_x": null,
      "overflow_y": null,
      "padding": null,
      "right": null,
      "top": null,
      "visibility": null,
      "width": null
     }
    },
    "323a0a78f5f841fcb97d2f550b5bf7bd": {
     "model_module": "@jupyter-widgets/controls",
     "model_module_version": "1.5.0",
     "model_name": "DescriptionStyleModel",
     "state": {
      "_model_module": "@jupyter-widgets/controls",
      "_model_module_version": "1.5.0",
      "_model_name": "DescriptionStyleModel",
      "_view_count": null,
      "_view_module": "@jupyter-widgets/base",
      "_view_module_version": "1.2.0",
      "_view_name": "StyleView",
      "description_width": ""
     }
    },
    "37bd0423d96f493e805ce8e59ab7b58b": {
     "model_module": "@jupyter-widgets/controls",
     "model_module_version": "1.5.0",
     "model_name": "DescriptionStyleModel",
     "state": {
      "_model_module": "@jupyter-widgets/controls",
      "_model_module_version": "1.5.0",
      "_model_name": "DescriptionStyleModel",
      "_view_count": null,
      "_view_module": "@jupyter-widgets/base",
      "_view_module_version": "1.2.0",
      "_view_name": "StyleView",
      "description_width": ""
     }
    },
    "37d33ca480b64ca1bdd7190b5e2983f8": {
     "model_module": "@jupyter-widgets/base",
     "model_module_version": "1.2.0",
     "model_name": "LayoutModel",
     "state": {
      "_model_module": "@jupyter-widgets/base",
      "_model_module_version": "1.2.0",
      "_model_name": "LayoutModel",
      "_view_count": null,
      "_view_module": "@jupyter-widgets/base",
      "_view_module_version": "1.2.0",
      "_view_name": "LayoutView",
      "align_content": null,
      "align_items": null,
      "align_self": null,
      "border": null,
      "bottom": null,
      "display": null,
      "flex": null,
      "flex_flow": null,
      "grid_area": null,
      "grid_auto_columns": null,
      "grid_auto_flow": null,
      "grid_auto_rows": null,
      "grid_column": null,
      "grid_gap": null,
      "grid_row": null,
      "grid_template_areas": null,
      "grid_template_columns": null,
      "grid_template_rows": null,
      "height": null,
      "justify_content": null,
      "justify_items": null,
      "left": null,
      "margin": null,
      "max_height": null,
      "max_width": null,
      "min_height": null,
      "min_width": null,
      "object_fit": null,
      "object_position": null,
      "order": null,
      "overflow": null,
      "overflow_x": null,
      "overflow_y": null,
      "padding": null,
      "right": null,
      "top": null,
      "visibility": null,
      "width": null
     }
    },
    "601c5f429b90401f98550bf85f3a2ddb": {
     "model_module": "@jupyter-widgets/controls",
     "model_module_version": "1.5.0",
     "model_name": "HTMLModel",
     "state": {
      "_dom_classes": [],
      "_model_module": "@jupyter-widgets/controls",
      "_model_module_version": "1.5.0",
      "_model_name": "HTMLModel",
      "_view_count": null,
      "_view_module": "@jupyter-widgets/controls",
      "_view_module_version": "1.5.0",
      "_view_name": "HTMLView",
      "description": "",
      "description_tooltip": null,
      "layout": "IPY_MODEL_6c27045de8d74d56b3e71e22939470ae",
      "placeholder": "​",
      "style": "IPY_MODEL_323a0a78f5f841fcb97d2f550b5bf7bd",
      "value": " 15/15 [01:43&lt;00:00,  8.19s/it]"
     }
    },
    "6c27045de8d74d56b3e71e22939470ae": {
     "model_module": "@jupyter-widgets/base",
     "model_module_version": "1.2.0",
     "model_name": "LayoutModel",
     "state": {
      "_model_module": "@jupyter-widgets/base",
      "_model_module_version": "1.2.0",
      "_model_name": "LayoutModel",
      "_view_count": null,
      "_view_module": "@jupyter-widgets/base",
      "_view_module_version": "1.2.0",
      "_view_name": "LayoutView",
      "align_content": null,
      "align_items": null,
      "align_self": null,
      "border": null,
      "bottom": null,
      "display": null,
      "flex": null,
      "flex_flow": null,
      "grid_area": null,
      "grid_auto_columns": null,
      "grid_auto_flow": null,
      "grid_auto_rows": null,
      "grid_column": null,
      "grid_gap": null,
      "grid_row": null,
      "grid_template_areas": null,
      "grid_template_columns": null,
      "grid_template_rows": null,
      "height": null,
      "justify_content": null,
      "justify_items": null,
      "left": null,
      "margin": null,
      "max_height": null,
      "max_width": null,
      "min_height": null,
      "min_width": null,
      "object_fit": null,
      "object_position": null,
      "order": null,
      "overflow": null,
      "overflow_x": null,
      "overflow_y": null,
      "padding": null,
      "right": null,
      "top": null,
      "visibility": null,
      "width": null
     }
    },
    "7024d898dae546abbf9b50e1edfd68b9": {
     "model_module": "@jupyter-widgets/controls",
     "model_module_version": "1.5.0",
     "model_name": "HTMLModel",
     "state": {
      "_dom_classes": [],
      "_model_module": "@jupyter-widgets/controls",
      "_model_module_version": "1.5.0",
      "_model_name": "HTMLModel",
      "_view_count": null,
      "_view_module": "@jupyter-widgets/controls",
      "_view_module_version": "1.5.0",
      "_view_name": "HTMLView",
      "description": "",
      "description_tooltip": null,
      "layout": "IPY_MODEL_d01c58d625f044d3ba113b07273444c2",
      "placeholder": "​",
      "style": "IPY_MODEL_8a82a3013baa4a25a1b8fcd19142b9b8",
      "value": "100%"
     }
    },
    "78bb51589dad4e47b2cc4e8e5ac4a3c5": {
     "model_module": "@jupyter-widgets/base",
     "model_module_version": "1.2.0",
     "model_name": "LayoutModel",
     "state": {
      "_model_module": "@jupyter-widgets/base",
      "_model_module_version": "1.2.0",
      "_model_name": "LayoutModel",
      "_view_count": null,
      "_view_module": "@jupyter-widgets/base",
      "_view_module_version": "1.2.0",
      "_view_name": "LayoutView",
      "align_content": null,
      "align_items": null,
      "align_self": null,
      "border": null,
      "bottom": null,
      "display": null,
      "flex": null,
      "flex_flow": null,
      "grid_area": null,
      "grid_auto_columns": null,
      "grid_auto_flow": null,
      "grid_auto_rows": null,
      "grid_column": null,
      "grid_gap": null,
      "grid_row": null,
      "grid_template_areas": null,
      "grid_template_columns": null,
      "grid_template_rows": null,
      "height": null,
      "justify_content": null,
      "justify_items": null,
      "left": null,
      "margin": null,
      "max_height": null,
      "max_width": null,
      "min_height": null,
      "min_width": null,
      "object_fit": null,
      "object_position": null,
      "order": null,
      "overflow": null,
      "overflow_x": null,
      "overflow_y": null,
      "padding": null,
      "right": null,
      "top": null,
      "visibility": null,
      "width": null
     }
    },
    "7b4b95f22361460f9973f96a97d11737": {
     "model_module": "@jupyter-widgets/controls",
     "model_module_version": "1.5.0",
     "model_name": "ProgressStyleModel",
     "state": {
      "_model_module": "@jupyter-widgets/controls",
      "_model_module_version": "1.5.0",
      "_model_name": "ProgressStyleModel",
      "_view_count": null,
      "_view_module": "@jupyter-widgets/base",
      "_view_module_version": "1.2.0",
      "_view_name": "StyleView",
      "bar_color": null,
      "description_width": ""
     }
    },
    "875ff3f196e447c9b27d2b34be4fa027": {
     "model_module": "@jupyter-widgets/controls",
     "model_module_version": "1.5.0",
     "model_name": "HBoxModel",
     "state": {
      "_dom_classes": [],
      "_model_module": "@jupyter-widgets/controls",
      "_model_module_version": "1.5.0",
      "_model_name": "HBoxModel",
      "_view_count": null,
      "_view_module": "@jupyter-widgets/controls",
      "_view_module_version": "1.5.0",
      "_view_name": "HBoxView",
      "box_style": "",
      "children": [
       "IPY_MODEL_1639080abf7e49928e82398d676d170a",
       "IPY_MODEL_f2a4712654bc4c54ac1fb9d23e34d73f",
       "IPY_MODEL_f4d62cf9c938476cbe472d99e46e1e93"
      ],
      "layout": "IPY_MODEL_b767ffa5f32e4e9385d81c9214ced582"
     }
    },
    "8a82a3013baa4a25a1b8fcd19142b9b8": {
     "model_module": "@jupyter-widgets/controls",
     "model_module_version": "1.5.0",
     "model_name": "DescriptionStyleModel",
     "state": {
      "_model_module": "@jupyter-widgets/controls",
      "_model_module_version": "1.5.0",
      "_model_name": "DescriptionStyleModel",
      "_view_count": null,
      "_view_module": "@jupyter-widgets/base",
      "_view_module_version": "1.2.0",
      "_view_name": "StyleView",
      "description_width": ""
     }
    },
    "982ebf4caf3e4903bcdc91a0483d12f5": {
     "model_module": "@jupyter-widgets/base",
     "model_module_version": "1.2.0",
     "model_name": "LayoutModel",
     "state": {
      "_model_module": "@jupyter-widgets/base",
      "_model_module_version": "1.2.0",
      "_model_name": "LayoutModel",
      "_view_count": null,
      "_view_module": "@jupyter-widgets/base",
      "_view_module_version": "1.2.0",
      "_view_name": "LayoutView",
      "align_content": null,
      "align_items": null,
      "align_self": null,
      "border": null,
      "bottom": null,
      "display": null,
      "flex": null,
      "flex_flow": null,
      "grid_area": null,
      "grid_auto_columns": null,
      "grid_auto_flow": null,
      "grid_auto_rows": null,
      "grid_column": null,
      "grid_gap": null,
      "grid_row": null,
      "grid_template_areas": null,
      "grid_template_columns": null,
      "grid_template_rows": null,
      "height": null,
      "justify_content": null,
      "justify_items": null,
      "left": null,
      "margin": null,
      "max_height": null,
      "max_width": null,
      "min_height": null,
      "min_width": null,
      "object_fit": null,
      "object_position": null,
      "order": null,
      "overflow": null,
      "overflow_x": null,
      "overflow_y": null,
      "padding": null,
      "right": null,
      "top": null,
      "visibility": null,
      "width": null
     }
    },
    "b1cabb4965f84c21b69f2ad4df73a112": {
     "model_module": "@jupyter-widgets/base",
     "model_module_version": "1.2.0",
     "model_name": "LayoutModel",
     "state": {
      "_model_module": "@jupyter-widgets/base",
      "_model_module_version": "1.2.0",
      "_model_name": "LayoutModel",
      "_view_count": null,
      "_view_module": "@jupyter-widgets/base",
      "_view_module_version": "1.2.0",
      "_view_name": "LayoutView",
      "align_content": null,
      "align_items": null,
      "align_self": null,
      "border": null,
      "bottom": null,
      "display": null,
      "flex": null,
      "flex_flow": null,
      "grid_area": null,
      "grid_auto_columns": null,
      "grid_auto_flow": null,
      "grid_auto_rows": null,
      "grid_column": null,
      "grid_gap": null,
      "grid_row": null,
      "grid_template_areas": null,
      "grid_template_columns": null,
      "grid_template_rows": null,
      "height": null,
      "justify_content": null,
      "justify_items": null,
      "left": null,
      "margin": null,
      "max_height": null,
      "max_width": null,
      "min_height": null,
      "min_width": null,
      "object_fit": null,
      "object_position": null,
      "order": null,
      "overflow": null,
      "overflow_x": null,
      "overflow_y": null,
      "padding": null,
      "right": null,
      "top": null,
      "visibility": null,
      "width": null
     }
    },
    "b767ffa5f32e4e9385d81c9214ced582": {
     "model_module": "@jupyter-widgets/base",
     "model_module_version": "1.2.0",
     "model_name": "LayoutModel",
     "state": {
      "_model_module": "@jupyter-widgets/base",
      "_model_module_version": "1.2.0",
      "_model_name": "LayoutModel",
      "_view_count": null,
      "_view_module": "@jupyter-widgets/base",
      "_view_module_version": "1.2.0",
      "_view_name": "LayoutView",
      "align_content": null,
      "align_items": null,
      "align_self": null,
      "border": null,
      "bottom": null,
      "display": null,
      "flex": null,
      "flex_flow": null,
      "grid_area": null,
      "grid_auto_columns": null,
      "grid_auto_flow": null,
      "grid_auto_rows": null,
      "grid_column": null,
      "grid_gap": null,
      "grid_row": null,
      "grid_template_areas": null,
      "grid_template_columns": null,
      "grid_template_rows": null,
      "height": null,
      "justify_content": null,
      "justify_items": null,
      "left": null,
      "margin": null,
      "max_height": null,
      "max_width": null,
      "min_height": null,
      "min_width": null,
      "object_fit": null,
      "object_position": null,
      "order": null,
      "overflow": null,
      "overflow_x": null,
      "overflow_y": null,
      "padding": null,
      "right": null,
      "top": null,
      "visibility": null,
      "width": null
     }
    },
    "b87d6f38b99240b5aedba8f580a5961d": {
     "model_module": "@jupyter-widgets/controls",
     "model_module_version": "1.5.0",
     "model_name": "HTMLModel",
     "state": {
      "_dom_classes": [],
      "_model_module": "@jupyter-widgets/controls",
      "_model_module_version": "1.5.0",
      "_model_name": "HTMLModel",
      "_view_count": null,
      "_view_module": "@jupyter-widgets/controls",
      "_view_module_version": "1.5.0",
      "_view_name": "HTMLView",
      "description": "",
      "description_tooltip": null,
      "layout": "IPY_MODEL_78bb51589dad4e47b2cc4e8e5ac4a3c5",
      "placeholder": "​",
      "style": "IPY_MODEL_37bd0423d96f493e805ce8e59ab7b58b",
      "value": "100%"
     }
    },
    "d01c58d625f044d3ba113b07273444c2": {
     "model_module": "@jupyter-widgets/base",
     "model_module_version": "1.2.0",
     "model_name": "LayoutModel",
     "state": {
      "_model_module": "@jupyter-widgets/base",
      "_model_module_version": "1.2.0",
      "_model_name": "LayoutModel",
      "_view_count": null,
      "_view_module": "@jupyter-widgets/base",
      "_view_module_version": "1.2.0",
      "_view_name": "LayoutView",
      "align_content": null,
      "align_items": null,
      "align_self": null,
      "border": null,
      "bottom": null,
      "display": null,
      "flex": null,
      "flex_flow": null,
      "grid_area": null,
      "grid_auto_columns": null,
      "grid_auto_flow": null,
      "grid_auto_rows": null,
      "grid_column": null,
      "grid_gap": null,
      "grid_row": null,
      "grid_template_areas": null,
      "grid_template_columns": null,
      "grid_template_rows": null,
      "height": null,
      "justify_content": null,
      "justify_items": null,
      "left": null,
      "margin": null,
      "max_height": null,
      "max_width": null,
      "min_height": null,
      "min_width": null,
      "object_fit": null,
      "object_position": null,
      "order": null,
      "overflow": null,
      "overflow_x": null,
      "overflow_y": null,
      "padding": null,
      "right": null,
      "top": null,
      "visibility": null,
      "width": null
     }
    },
    "d4238dc5c77749db80dd93c671f00bb4": {
     "model_module": "@jupyter-widgets/base",
     "model_module_version": "1.2.0",
     "model_name": "LayoutModel",
     "state": {
      "_model_module": "@jupyter-widgets/base",
      "_model_module_version": "1.2.0",
      "_model_name": "LayoutModel",
      "_view_count": null,
      "_view_module": "@jupyter-widgets/base",
      "_view_module_version": "1.2.0",
      "_view_name": "LayoutView",
      "align_content": null,
      "align_items": null,
      "align_self": null,
      "border": null,
      "bottom": null,
      "display": null,
      "flex": null,
      "flex_flow": null,
      "grid_area": null,
      "grid_auto_columns": null,
      "grid_auto_flow": null,
      "grid_auto_rows": null,
      "grid_column": null,
      "grid_gap": null,
      "grid_row": null,
      "grid_template_areas": null,
      "grid_template_columns": null,
      "grid_template_rows": null,
      "height": null,
      "justify_content": null,
      "justify_items": null,
      "left": null,
      "margin": null,
      "max_height": null,
      "max_width": null,
      "min_height": null,
      "min_width": null,
      "object_fit": null,
      "object_position": null,
      "order": null,
      "overflow": null,
      "overflow_x": null,
      "overflow_y": null,
      "padding": null,
      "right": null,
      "top": null,
      "visibility": null,
      "width": null
     }
    },
    "d6b255021a61460db0af69f540db6275": {
     "model_module": "@jupyter-widgets/controls",
     "model_module_version": "1.5.0",
     "model_name": "DescriptionStyleModel",
     "state": {
      "_model_module": "@jupyter-widgets/controls",
      "_model_module_version": "1.5.0",
      "_model_name": "DescriptionStyleModel",
      "_view_count": null,
      "_view_module": "@jupyter-widgets/base",
      "_view_module_version": "1.2.0",
      "_view_name": "StyleView",
      "description_width": ""
     }
    },
    "d7b0b7a4611045d787cf58d10558131b": {
     "model_module": "@jupyter-widgets/controls",
     "model_module_version": "1.5.0",
     "model_name": "DescriptionStyleModel",
     "state": {
      "_model_module": "@jupyter-widgets/controls",
      "_model_module_version": "1.5.0",
      "_model_name": "DescriptionStyleModel",
      "_view_count": null,
      "_view_module": "@jupyter-widgets/base",
      "_view_module_version": "1.2.0",
      "_view_name": "StyleView",
      "description_width": ""
     }
    },
    "d964247b723447c6b5a536928337388a": {
     "model_module": "@jupyter-widgets/base",
     "model_module_version": "1.2.0",
     "model_name": "LayoutModel",
     "state": {
      "_model_module": "@jupyter-widgets/base",
      "_model_module_version": "1.2.0",
      "_model_name": "LayoutModel",
      "_view_count": null,
      "_view_module": "@jupyter-widgets/base",
      "_view_module_version": "1.2.0",
      "_view_name": "LayoutView",
      "align_content": null,
      "align_items": null,
      "align_self": null,
      "border": null,
      "bottom": null,
      "display": null,
      "flex": null,
      "flex_flow": null,
      "grid_area": null,
      "grid_auto_columns": null,
      "grid_auto_flow": null,
      "grid_auto_rows": null,
      "grid_column": null,
      "grid_gap": null,
      "grid_row": null,
      "grid_template_areas": null,
      "grid_template_columns": null,
      "grid_template_rows": null,
      "height": null,
      "justify_content": null,
      "justify_items": null,
      "left": null,
      "margin": null,
      "max_height": null,
      "max_width": null,
      "min_height": null,
      "min_width": null,
      "object_fit": null,
      "object_position": null,
      "order": null,
      "overflow": null,
      "overflow_x": null,
      "overflow_y": null,
      "padding": null,
      "right": null,
      "top": null,
      "visibility": null,
      "width": null
     }
    },
    "dadd80bcc59e49788c69088a389d5f2a": {
     "model_module": "@jupyter-widgets/controls",
     "model_module_version": "1.5.0",
     "model_name": "HBoxModel",
     "state": {
      "_dom_classes": [],
      "_model_module": "@jupyter-widgets/controls",
      "_model_module_version": "1.5.0",
      "_model_name": "HBoxModel",
      "_view_count": null,
      "_view_module": "@jupyter-widgets/controls",
      "_view_module_version": "1.5.0",
      "_view_name": "HBoxView",
      "box_style": "",
      "children": [
       "IPY_MODEL_7024d898dae546abbf9b50e1edfd68b9",
       "IPY_MODEL_039c0a5914dc48c6a09fec45824c9e66",
       "IPY_MODEL_ef3efd4fb0d44bd29d4b110240407693"
      ],
      "layout": "IPY_MODEL_d4238dc5c77749db80dd93c671f00bb4"
     }
    },
    "df195a2c39fd4c29b2455a8f7d73cc40": {
     "model_module": "@jupyter-widgets/controls",
     "model_module_version": "1.5.0",
     "model_name": "ProgressStyleModel",
     "state": {
      "_model_module": "@jupyter-widgets/controls",
      "_model_module_version": "1.5.0",
      "_model_name": "ProgressStyleModel",
      "_view_count": null,
      "_view_module": "@jupyter-widgets/base",
      "_view_module_version": "1.2.0",
      "_view_name": "StyleView",
      "bar_color": null,
      "description_width": ""
     }
    },
    "ed29d87836b44ca4b975774835e164f7": {
     "model_module": "@jupyter-widgets/controls",
     "model_module_version": "1.5.0",
     "model_name": "ProgressStyleModel",
     "state": {
      "_model_module": "@jupyter-widgets/controls",
      "_model_module_version": "1.5.0",
      "_model_name": "ProgressStyleModel",
      "_view_count": null,
      "_view_module": "@jupyter-widgets/base",
      "_view_module_version": "1.2.0",
      "_view_name": "StyleView",
      "bar_color": null,
      "description_width": ""
     }
    },
    "ed51e58e630d49478d3648d61ec80fa2": {
     "model_module": "@jupyter-widgets/base",
     "model_module_version": "1.2.0",
     "model_name": "LayoutModel",
     "state": {
      "_model_module": "@jupyter-widgets/base",
      "_model_module_version": "1.2.0",
      "_model_name": "LayoutModel",
      "_view_count": null,
      "_view_module": "@jupyter-widgets/base",
      "_view_module_version": "1.2.0",
      "_view_name": "LayoutView",
      "align_content": null,
      "align_items": null,
      "align_self": null,
      "border": null,
      "bottom": null,
      "display": null,
      "flex": null,
      "flex_flow": null,
      "grid_area": null,
      "grid_auto_columns": null,
      "grid_auto_flow": null,
      "grid_auto_rows": null,
      "grid_column": null,
      "grid_gap": null,
      "grid_row": null,
      "grid_template_areas": null,
      "grid_template_columns": null,
      "grid_template_rows": null,
      "height": null,
      "justify_content": null,
      "justify_items": null,
      "left": null,
      "margin": null,
      "max_height": null,
      "max_width": null,
      "min_height": null,
      "min_width": null,
      "object_fit": null,
      "object_position": null,
      "order": null,
      "overflow": null,
      "overflow_x": null,
      "overflow_y": null,
      "padding": null,
      "right": null,
      "top": null,
      "visibility": null,
      "width": null
     }
    },
    "ef3efd4fb0d44bd29d4b110240407693": {
     "model_module": "@jupyter-widgets/controls",
     "model_module_version": "1.5.0",
     "model_name": "HTMLModel",
     "state": {
      "_dom_classes": [],
      "_model_module": "@jupyter-widgets/controls",
      "_model_module_version": "1.5.0",
      "_model_name": "HTMLModel",
      "_view_count": null,
      "_view_module": "@jupyter-widgets/controls",
      "_view_module_version": "1.5.0",
      "_view_name": "HTMLView",
      "description": "",
      "description_tooltip": null,
      "layout": "IPY_MODEL_0759c50038eb4036b905fa1f3bdef8fb",
      "placeholder": "​",
      "style": "IPY_MODEL_d6b255021a61460db0af69f540db6275",
      "value": " 10/10 [03:28&lt;00:00, 18.48s/it]"
     }
    },
    "f070a3f698204cb2ab896abe7638583f": {
     "model_module": "@jupyter-widgets/controls",
     "model_module_version": "1.5.0",
     "model_name": "DescriptionStyleModel",
     "state": {
      "_model_module": "@jupyter-widgets/controls",
      "_model_module_version": "1.5.0",
      "_model_name": "DescriptionStyleModel",
      "_view_count": null,
      "_view_module": "@jupyter-widgets/base",
      "_view_module_version": "1.2.0",
      "_view_name": "StyleView",
      "description_width": ""
     }
    },
    "f2a4712654bc4c54ac1fb9d23e34d73f": {
     "model_module": "@jupyter-widgets/controls",
     "model_module_version": "1.5.0",
     "model_name": "FloatProgressModel",
     "state": {
      "_dom_classes": [],
      "_model_module": "@jupyter-widgets/controls",
      "_model_module_version": "1.5.0",
      "_model_name": "FloatProgressModel",
      "_view_count": null,
      "_view_module": "@jupyter-widgets/controls",
      "_view_module_version": "1.5.0",
      "_view_name": "ProgressView",
      "bar_style": "success",
      "description": "",
      "description_tooltip": null,
      "layout": "IPY_MODEL_28816e9f41894447aa1e8119ab68e010",
      "max": 10,
      "min": 0,
      "orientation": "horizontal",
      "style": "IPY_MODEL_7b4b95f22361460f9973f96a97d11737",
      "value": 10
     }
    },
    "f4d62cf9c938476cbe472d99e46e1e93": {
     "model_module": "@jupyter-widgets/controls",
     "model_module_version": "1.5.0",
     "model_name": "HTMLModel",
     "state": {
      "_dom_classes": [],
      "_model_module": "@jupyter-widgets/controls",
      "_model_module_version": "1.5.0",
      "_model_name": "HTMLModel",
      "_view_count": null,
      "_view_module": "@jupyter-widgets/controls",
      "_view_module_version": "1.5.0",
      "_view_name": "HTMLView",
      "description": "",
      "description_tooltip": null,
      "layout": "IPY_MODEL_982ebf4caf3e4903bcdc91a0483d12f5",
      "placeholder": "​",
      "style": "IPY_MODEL_d7b0b7a4611045d787cf58d10558131b",
      "value": " 10/10 [04:09&lt;00:00, 23.96s/it]"
     }
    }
   }
  }
 },
 "nbformat": 4,
 "nbformat_minor": 1
}
